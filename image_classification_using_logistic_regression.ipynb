{
  "cells": [
    {
      "cell_type": "markdown",
      "metadata": {
        "id": "view-in-github",
        "colab_type": "text"
      },
      "source": [
        "<a href=\"https://colab.research.google.com/github/Shreyas-Hegde10/MNIST-Deep-Learning/blob/main/image_classification_using_logistic_regression.ipynb\" target=\"_parent\"><img src=\"https://colab.research.google.com/assets/colab-badge.svg\" alt=\"Open In Colab\"/></a>"
      ]
    },
    {
      "cell_type": "code",
      "source": [
        "pip install optuna"
      ],
      "metadata": {
        "colab": {
          "base_uri": "https://localhost:8080/"
        },
        "id": "pHnEIQq9Vy2u",
        "outputId": "2bcdb5d8-f95b-46f5-8126-5eb016a9ac4c"
      },
      "execution_count": null,
      "outputs": [
        {
          "output_type": "stream",
          "name": "stdout",
          "text": [
            "Collecting optuna\n",
            "  Downloading optuna-3.6.1-py3-none-any.whl.metadata (17 kB)\n",
            "Collecting alembic>=1.5.0 (from optuna)\n",
            "  Downloading alembic-1.13.2-py3-none-any.whl.metadata (7.4 kB)\n",
            "Collecting colorlog (from optuna)\n",
            "  Downloading colorlog-6.8.2-py3-none-any.whl.metadata (10 kB)\n",
            "Requirement already satisfied: numpy in /usr/local/lib/python3.10/dist-packages (from optuna) (1.26.4)\n",
            "Requirement already satisfied: packaging>=20.0 in /usr/local/lib/python3.10/dist-packages (from optuna) (24.1)\n",
            "Requirement already satisfied: sqlalchemy>=1.3.0 in /usr/local/lib/python3.10/dist-packages (from optuna) (2.0.31)\n",
            "Requirement already satisfied: tqdm in /usr/local/lib/python3.10/dist-packages (from optuna) (4.66.5)\n",
            "Requirement already satisfied: PyYAML in /usr/local/lib/python3.10/dist-packages (from optuna) (6.0.1)\n",
            "Collecting Mako (from alembic>=1.5.0->optuna)\n",
            "  Downloading Mako-1.3.5-py3-none-any.whl.metadata (2.9 kB)\n",
            "Requirement already satisfied: typing-extensions>=4 in /usr/local/lib/python3.10/dist-packages (from alembic>=1.5.0->optuna) (4.12.2)\n",
            "Requirement already satisfied: greenlet!=0.4.17 in /usr/local/lib/python3.10/dist-packages (from sqlalchemy>=1.3.0->optuna) (3.0.3)\n",
            "Requirement already satisfied: MarkupSafe>=0.9.2 in /usr/local/lib/python3.10/dist-packages (from Mako->alembic>=1.5.0->optuna) (2.1.5)\n",
            "Downloading optuna-3.6.1-py3-none-any.whl (380 kB)\n",
            "\u001b[2K   \u001b[90m━━━━━━━━━━━━━━━━━━━━━━━━━━━━━━━━━━━━━━━━\u001b[0m \u001b[32m380.1/380.1 kB\u001b[0m \u001b[31m5.3 MB/s\u001b[0m eta \u001b[36m0:00:00\u001b[0m\n",
            "\u001b[?25hDownloading alembic-1.13.2-py3-none-any.whl (232 kB)\n",
            "\u001b[2K   \u001b[90m━━━━━━━━━━━━━━━━━━━━━━━━━━━━━━━━━━━━━━━━\u001b[0m \u001b[32m233.0/233.0 kB\u001b[0m \u001b[31m12.7 MB/s\u001b[0m eta \u001b[36m0:00:00\u001b[0m\n",
            "\u001b[?25hDownloading colorlog-6.8.2-py3-none-any.whl (11 kB)\n",
            "Downloading Mako-1.3.5-py3-none-any.whl (78 kB)\n",
            "\u001b[2K   \u001b[90m━━━━━━━━━━━━━━━━━━━━━━━━━━━━━━━━━━━━━━━━\u001b[0m \u001b[32m78.6/78.6 kB\u001b[0m \u001b[31m5.1 MB/s\u001b[0m eta \u001b[36m0:00:00\u001b[0m\n",
            "\u001b[?25hInstalling collected packages: Mako, colorlog, alembic, optuna\n",
            "Successfully installed Mako-1.3.5 alembic-1.13.2 colorlog-6.8.2 optuna-3.6.1\n"
          ]
        }
      ]
    },
    {
      "cell_type": "code",
      "execution_count": null,
      "metadata": {
        "_cell_guid": "b1076dfc-b9ad-4769-8c92-a6c4dae69d19",
        "_uuid": "8f2839f25d086af736a60e9eeb907d3b93b6e0e5",
        "execution": {
          "iopub.execute_input": "2024-08-08T03:23:06.032205Z",
          "iopub.status.busy": "2024-08-08T03:23:06.031810Z",
          "iopub.status.idle": "2024-08-08T03:23:06.042194Z",
          "shell.execute_reply": "2024-08-08T03:23:06.041003Z",
          "shell.execute_reply.started": "2024-08-08T03:23:06.032176Z"
        },
        "trusted": true,
        "id": "sZectzT2Vnx4"
      },
      "outputs": [],
      "source": [
        "# This Python 3 environment comes with many helpful analytics libraries installed\n",
        "# It is defined by the kaggle/python Docker image: https://github.com/kaggle/docker-python\n",
        "# For example, here's several helpful packages to load\n",
        "\n",
        "import numpy as np # linear algebra\n",
        "import pandas as pd # data processing, CSV file I/O (e.g. pd.read_csv)\n",
        "import torch\n",
        "import torchvision\n",
        "from torchvision.datasets import MNIST\n",
        "import matplotlib.pyplot as plt\n",
        "%matplotlib inline\n",
        "import torchvision.transforms as transforms\n",
        "from torch.utils.data import random_split, DataLoader\n",
        "import torch.nn as nn\n",
        "import torch.nn.functional as F\n",
        "import optuna\n",
        "\n",
        "# Input data files are available in the read-only \"../input/\" directory\n",
        "# For example, running this (by clicking run or pressing Shift+Enter) will list all files under the input directory\n",
        "\n",
        "import os\n",
        "for dirname, _, filenames in os.walk('/kaggle/input'):\n",
        "    for filename in filenames:\n",
        "        print(os.path.join(dirname, filename))\n",
        "\n",
        "# You can write up to 20GB to the current directory (/kaggle/working/) that gets preserved as output when you create a version using \"Save & Run All\"\n",
        "# You can also write temporary files to /kaggle/temp/, but they won't be saved outside of the current session"
      ]
    },
    {
      "cell_type": "markdown",
      "metadata": {
        "id": "AJrfrGOXVnx7"
      },
      "source": [
        "Loading Data"
      ]
    },
    {
      "cell_type": "code",
      "execution_count": null,
      "metadata": {
        "trusted": true,
        "colab": {
          "base_uri": "https://localhost:8080/"
        },
        "id": "ZKpsHHTeVnx8",
        "outputId": "e87e1643-0d25-4863-e2db-b2c1dc711707"
      },
      "outputs": [
        {
          "output_type": "stream",
          "name": "stdout",
          "text": [
            "Downloading http://yann.lecun.com/exdb/mnist/train-images-idx3-ubyte.gz\n",
            "Failed to download (trying next):\n",
            "HTTP Error 403: Forbidden\n",
            "\n",
            "Downloading https://ossci-datasets.s3.amazonaws.com/mnist/train-images-idx3-ubyte.gz\n",
            "Downloading https://ossci-datasets.s3.amazonaws.com/mnist/train-images-idx3-ubyte.gz to data/MNIST/raw/train-images-idx3-ubyte.gz\n"
          ]
        },
        {
          "output_type": "stream",
          "name": "stderr",
          "text": [
            "100%|██████████| 9912422/9912422 [00:00<00:00, 44598030.58it/s]\n"
          ]
        },
        {
          "output_type": "stream",
          "name": "stdout",
          "text": [
            "Extracting data/MNIST/raw/train-images-idx3-ubyte.gz to data/MNIST/raw\n",
            "\n",
            "Downloading http://yann.lecun.com/exdb/mnist/train-labels-idx1-ubyte.gz\n",
            "Failed to download (trying next):\n",
            "HTTP Error 403: Forbidden\n",
            "\n",
            "Downloading https://ossci-datasets.s3.amazonaws.com/mnist/train-labels-idx1-ubyte.gz\n",
            "Downloading https://ossci-datasets.s3.amazonaws.com/mnist/train-labels-idx1-ubyte.gz to data/MNIST/raw/train-labels-idx1-ubyte.gz\n"
          ]
        },
        {
          "output_type": "stream",
          "name": "stderr",
          "text": [
            "100%|██████████| 28881/28881 [00:00<00:00, 1963746.94it/s]"
          ]
        },
        {
          "output_type": "stream",
          "name": "stdout",
          "text": [
            "Extracting data/MNIST/raw/train-labels-idx1-ubyte.gz to data/MNIST/raw\n",
            "\n",
            "Downloading http://yann.lecun.com/exdb/mnist/t10k-images-idx3-ubyte.gz\n"
          ]
        },
        {
          "output_type": "stream",
          "name": "stderr",
          "text": [
            "\n"
          ]
        },
        {
          "output_type": "stream",
          "name": "stdout",
          "text": [
            "Failed to download (trying next):\n",
            "HTTP Error 403: Forbidden\n",
            "\n",
            "Downloading https://ossci-datasets.s3.amazonaws.com/mnist/t10k-images-idx3-ubyte.gz\n",
            "Downloading https://ossci-datasets.s3.amazonaws.com/mnist/t10k-images-idx3-ubyte.gz to data/MNIST/raw/t10k-images-idx3-ubyte.gz\n"
          ]
        },
        {
          "output_type": "stream",
          "name": "stderr",
          "text": [
            "100%|██████████| 1648877/1648877 [00:00<00:00, 13837262.35it/s]\n"
          ]
        },
        {
          "output_type": "stream",
          "name": "stdout",
          "text": [
            "Extracting data/MNIST/raw/t10k-images-idx3-ubyte.gz to data/MNIST/raw\n",
            "\n",
            "Downloading http://yann.lecun.com/exdb/mnist/t10k-labels-idx1-ubyte.gz\n",
            "Failed to download (trying next):\n",
            "HTTP Error 403: Forbidden\n",
            "\n",
            "Downloading https://ossci-datasets.s3.amazonaws.com/mnist/t10k-labels-idx1-ubyte.gz\n",
            "Downloading https://ossci-datasets.s3.amazonaws.com/mnist/t10k-labels-idx1-ubyte.gz to data/MNIST/raw/t10k-labels-idx1-ubyte.gz\n"
          ]
        },
        {
          "output_type": "stream",
          "name": "stderr",
          "text": [
            "100%|██████████| 4542/4542 [00:00<00:00, 6562359.20it/s]\n"
          ]
        },
        {
          "output_type": "stream",
          "name": "stdout",
          "text": [
            "Extracting data/MNIST/raw/t10k-labels-idx1-ubyte.gz to data/MNIST/raw\n",
            "\n"
          ]
        },
        {
          "output_type": "execute_result",
          "data": {
            "text/plain": [
              "10000"
            ]
          },
          "metadata": {},
          "execution_count": 4
        }
      ],
      "source": [
        "dataset = MNIST(root='data/', download=True)\n",
        "len(dataset)#60,000 samples\n",
        "\n",
        "test_dataset = MNIST(root='data/', train=False)\n",
        "len(test_dataset) #10,000 samples"
      ]
    },
    {
      "cell_type": "markdown",
      "metadata": {
        "id": "oXy-X3aiVnx9"
      },
      "source": [
        "Viewing Samples"
      ]
    },
    {
      "cell_type": "code",
      "execution_count": null,
      "metadata": {
        "trusted": true,
        "colab": {
          "base_uri": "https://localhost:8080/",
          "height": 447
        },
        "id": "_2CnRN5cVnx_",
        "outputId": "1ac874cb-c3d6-4851-8b15-e7fb0d22cefa"
      },
      "outputs": [
        {
          "output_type": "stream",
          "name": "stdout",
          "text": [
            "Label: 5\n"
          ]
        },
        {
          "output_type": "display_data",
          "data": {
            "text/plain": [
              "<Figure size 640x480 with 1 Axes>"
            ],
            "image/png": "[encoded data removed]"
          },
          "metadata": {}
        }
      ],
      "source": [
        "image, label = dataset[0]\n",
        "plt.imshow(image, cmap='gray')\n",
        "print('Label:', label)\n",
        "\n"
      ]
    },
    {
      "cell_type": "code",
      "execution_count": null,
      "metadata": {
        "execution": {
          "iopub.execute_input": "2024-08-08T03:02:29.890612Z",
          "iopub.status.busy": "2024-08-08T03:02:29.890182Z",
          "iopub.status.idle": "2024-08-08T03:02:30.133376Z",
          "shell.execute_reply": "2024-08-08T03:02:30.132091Z",
          "shell.execute_reply.started": "2024-08-08T03:02:29.890579Z"
        },
        "trusted": true,
        "colab": {
          "base_uri": "https://localhost:8080/",
          "height": 447
        },
        "id": "0lCykNdkVnx_",
        "outputId": "b565cdb7-d423-4527-fb35-c5647859adb0"
      },
      "outputs": [
        {
          "output_type": "stream",
          "name": "stdout",
          "text": [
            "Label: 3\n"
          ]
        },
        {
          "output_type": "display_data",
          "data": {
            "text/plain": [
              "<Figure size 640x480 with 1 Axes>"
            ],
            "image/png": "[encoded data removed]"
          },
          "metadata": {}
        }
      ],
      "source": [
        "image, label = dataset[10]\n",
        "plt.imshow(image, cmap='gray')\n",
        "print('Label:', label)"
      ]
    },
    {
      "cell_type": "markdown",
      "metadata": {
        "id": "uJkUoby0VnyA"
      },
      "source": [
        "Transforming Images Into Tensors"
      ]
    },
    {
      "cell_type": "code",
      "execution_count": null,
      "metadata": {
        "execution": {
          "iopub.execute_input": "2024-08-08T03:02:31.845030Z",
          "iopub.status.busy": "2024-08-08T03:02:31.844620Z",
          "iopub.status.idle": "2024-08-08T03:02:31.983288Z",
          "shell.execute_reply": "2024-08-08T03:02:31.982204Z",
          "shell.execute_reply.started": "2024-08-08T03:02:31.844997Z"
        },
        "trusted": true,
        "colab": {
          "base_uri": "https://localhost:8080/"
        },
        "id": "ImQmtVfUVnyA",
        "outputId": "2b026a61-0619-4e9f-d254-90e107c90f3a"
      },
      "outputs": [
        {
          "output_type": "stream",
          "name": "stdout",
          "text": [
            "tensor([[[0.0000, 0.0000, 0.0000, 0.0000, 0.0000, 0.0000, 0.0000, 0.0000,\n",
            "          0.0000, 0.0000, 0.0000, 0.0000, 0.0000, 0.0000, 0.0000, 0.0000,\n",
            "          0.0000, 0.0000, 0.0000, 0.0000, 0.0000, 0.0000, 0.0000, 0.0000,\n",
            "          0.0000, 0.0000, 0.0000, 0.0000],\n",
            "         [0.0000, 0.0000, 0.0000, 0.0000, 0.0000, 0.0000, 0.0000, 0.0000,\n",
            "          0.0000, 0.0000, 0.0000, 0.0000, 0.0000, 0.0000, 0.0000, 0.0000,\n",
            "          0.0000, 0.0000, 0.0000, 0.0000, 0.0000, 0.0000, 0.0000, 0.0000,\n",
            "          0.0000, 0.0000, 0.0000, 0.0000],\n",
            "         [0.0000, 0.0000, 0.0000, 0.0000, 0.0000, 0.0000, 0.0000, 0.0000,\n",
            "          0.0000, 0.0000, 0.0000, 0.0000, 0.0000, 0.0000, 0.0000, 0.0000,\n",
            "          0.0000, 0.0000, 0.0000, 0.0000, 0.0000, 0.0000, 0.0000, 0.0000,\n",
            "          0.0000, 0.0000, 0.0000, 0.0000],\n",
            "         [0.0000, 0.0000, 0.0000, 0.0000, 0.0000, 0.0000, 0.0000, 0.0000,\n",
            "          0.0000, 0.0000, 0.0000, 0.0000, 0.0000, 0.0000, 0.0000, 0.0000,\n",
            "          0.0000, 0.0000, 0.0000, 0.0000, 0.0000, 0.0000, 0.0000, 0.0000,\n",
            "          0.0000, 0.0000, 0.0000, 0.0000],\n",
            "         [0.0000, 0.0000, 0.0000, 0.0000, 0.0000, 0.0000, 0.0000, 0.0000,\n",
            "          0.0000, 0.0000, 0.0000, 0.0000, 0.0000, 0.0000, 0.0000, 0.0000,\n",
            "          0.0000, 0.0000, 0.0000, 0.0000, 0.0000, 0.0000, 0.0000, 0.0000,\n",
            "          0.0000, 0.0000, 0.0000, 0.0000],\n",
            "         [0.0000, 0.0000, 0.0000, 0.0000, 0.0000, 0.0000, 0.0000, 0.0000,\n",
            "          0.0000, 0.0000, 0.0000, 0.0000, 0.0118, 0.0706, 0.0706, 0.0706,\n",
            "          0.4941, 0.5333, 0.6863, 0.1020, 0.6510, 1.0000, 0.9686, 0.4980,\n",
            "          0.0000, 0.0000, 0.0000, 0.0000],\n",
            "         [0.0000, 0.0000, 0.0000, 0.0000, 0.0000, 0.0000, 0.0000, 0.0000,\n",
            "          0.1176, 0.1412, 0.3686, 0.6039, 0.6667, 0.9922, 0.9922, 0.9922,\n",
            "          0.9922, 0.9922, 0.8824, 0.6745, 0.9922, 0.9490, 0.7647, 0.2510,\n",
            "          0.0000, 0.0000, 0.0000, 0.0000],\n",
            "         [0.0000, 0.0000, 0.0000, 0.0000, 0.0000, 0.0000, 0.0000, 0.1922,\n",
            "          0.9333, 0.9922, 0.9922, 0.9922, 0.9922, 0.9922, 0.9922, 0.9922,\n",
            "          0.9922, 0.9843, 0.3647, 0.3216, 0.3216, 0.2196, 0.1529, 0.0000,\n",
            "          0.0000, 0.0000, 0.0000, 0.0000],\n",
            "         [0.0000, 0.0000, 0.0000, 0.0000, 0.0000, 0.0000, 0.0000, 0.0706,\n",
            "          0.8588, 0.9922, 0.9922, 0.9922, 0.9922, 0.9922, 0.7765, 0.7137,\n",
            "          0.9686, 0.9451, 0.0000, 0.0000, 0.0000, 0.0000, 0.0000, 0.0000,\n",
            "          0.0000, 0.0000, 0.0000, 0.0000],\n",
            "         [0.0000, 0.0000, 0.0000, 0.0000, 0.0000, 0.0000, 0.0000, 0.0000,\n",
            "          0.3137, 0.6118, 0.4196, 0.9922, 0.9922, 0.8039, 0.0431, 0.0000,\n",
            "          0.1686, 0.6039, 0.0000, 0.0000, 0.0000, 0.0000, 0.0000, 0.0000,\n",
            "          0.0000, 0.0000, 0.0000, 0.0000],\n",
            "         [0.0000, 0.0000, 0.0000, 0.0000, 0.0000, 0.0000, 0.0000, 0.0000,\n",
            "          0.0000, 0.0549, 0.0039, 0.6039, 0.9922, 0.3529, 0.0000, 0.0000,\n",
            "          0.0000, 0.0000, 0.0000, 0.0000, 0.0000, 0.0000, 0.0000, 0.0000,\n",
            "          0.0000, 0.0000, 0.0000, 0.0000],\n",
            "         [0.0000, 0.0000, 0.0000, 0.0000, 0.0000, 0.0000, 0.0000, 0.0000,\n",
            "          0.0000, 0.0000, 0.0000, 0.5451, 0.9922, 0.7451, 0.0078, 0.0000,\n",
            "          0.0000, 0.0000, 0.0000, 0.0000, 0.0000, 0.0000, 0.0000, 0.0000,\n",
            "          0.0000, 0.0000, 0.0000, 0.0000],\n",
            "         [0.0000, 0.0000, 0.0000, 0.0000, 0.0000, 0.0000, 0.0000, 0.0000,\n",
            "          0.0000, 0.0000, 0.0000, 0.0431, 0.7451, 0.9922, 0.2745, 0.0000,\n",
            "          0.0000, 0.0000, 0.0000, 0.0000, 0.0000, 0.0000, 0.0000, 0.0000,\n",
            "          0.0000, 0.0000, 0.0000, 0.0000],\n",
            "         [0.0000, 0.0000, 0.0000, 0.0000, 0.0000, 0.0000, 0.0000, 0.0000,\n",
            "          0.0000, 0.0000, 0.0000, 0.0000, 0.1373, 0.9451, 0.8824, 0.6275,\n",
            "          0.4235, 0.0039, 0.0000, 0.0000, 0.0000, 0.0000, 0.0000, 0.0000,\n",
            "          0.0000, 0.0000, 0.0000, 0.0000],\n",
            "         [0.0000, 0.0000, 0.0000, 0.0000, 0.0000, 0.0000, 0.0000, 0.0000,\n",
            "          0.0000, 0.0000, 0.0000, 0.0000, 0.0000, 0.3176, 0.9412, 0.9922,\n",
            "          0.9922, 0.4667, 0.0980, 0.0000, 0.0000, 0.0000, 0.0000, 0.0000,\n",
            "          0.0000, 0.0000, 0.0000, 0.0000],\n",
            "         [0.0000, 0.0000, 0.0000, 0.0000, 0.0000, 0.0000, 0.0000, 0.0000,\n",
            "          0.0000, 0.0000, 0.0000, 0.0000, 0.0000, 0.0000, 0.1765, 0.7294,\n",
            "          0.9922, 0.9922, 0.5882, 0.1059, 0.0000, 0.0000, 0.0000, 0.0000,\n",
            "          0.0000, 0.0000, 0.0000, 0.0000],\n",
            "         [0.0000, 0.0000, 0.0000, 0.0000, 0.0000, 0.0000, 0.0000, 0.0000,\n",
            "          0.0000, 0.0000, 0.0000, 0.0000, 0.0000, 0.0000, 0.0000, 0.0627,\n",
            "          0.3647, 0.9882, 0.9922, 0.7333, 0.0000, 0.0000, 0.0000, 0.0000,\n",
            "          0.0000, 0.0000, 0.0000, 0.0000],\n",
            "         [0.0000, 0.0000, 0.0000, 0.0000, 0.0000, 0.0000, 0.0000, 0.0000,\n",
            "          0.0000, 0.0000, 0.0000, 0.0000, 0.0000, 0.0000, 0.0000, 0.0000,\n",
            "          0.0000, 0.9765, 0.9922, 0.9765, 0.2510, 0.0000, 0.0000, 0.0000,\n",
            "          0.0000, 0.0000, 0.0000, 0.0000],\n",
            "         [0.0000, 0.0000, 0.0000, 0.0000, 0.0000, 0.0000, 0.0000, 0.0000,\n",
            "          0.0000, 0.0000, 0.0000, 0.0000, 0.0000, 0.0000, 0.1804, 0.5098,\n",
            "          0.7176, 0.9922, 0.9922, 0.8118, 0.0078, 0.0000, 0.0000, 0.0000,\n",
            "          0.0000, 0.0000, 0.0000, 0.0000],\n",
            "         [0.0000, 0.0000, 0.0000, 0.0000, 0.0000, 0.0000, 0.0000, 0.0000,\n",
            "          0.0000, 0.0000, 0.0000, 0.0000, 0.1529, 0.5804, 0.8980, 0.9922,\n",
            "          0.9922, 0.9922, 0.9804, 0.7137, 0.0000, 0.0000, 0.0000, 0.0000,\n",
            "          0.0000, 0.0000, 0.0000, 0.0000],\n",
            "         [0.0000, 0.0000, 0.0000, 0.0000, 0.0000, 0.0000, 0.0000, 0.0000,\n",
            "          0.0000, 0.0000, 0.0941, 0.4471, 0.8667, 0.9922, 0.9922, 0.9922,\n",
            "          0.9922, 0.7882, 0.3059, 0.0000, 0.0000, 0.0000, 0.0000, 0.0000,\n",
            "          0.0000, 0.0000, 0.0000, 0.0000],\n",
            "         [0.0000, 0.0000, 0.0000, 0.0000, 0.0000, 0.0000, 0.0000, 0.0000,\n",
            "          0.0902, 0.2588, 0.8353, 0.9922, 0.9922, 0.9922, 0.9922, 0.7765,\n",
            "          0.3176, 0.0078, 0.0000, 0.0000, 0.0000, 0.0000, 0.0000, 0.0000,\n",
            "          0.0000, 0.0000, 0.0000, 0.0000],\n",
            "         [0.0000, 0.0000, 0.0000, 0.0000, 0.0000, 0.0000, 0.0706, 0.6706,\n",
            "          0.8588, 0.9922, 0.9922, 0.9922, 0.9922, 0.7647, 0.3137, 0.0353,\n",
            "          0.0000, 0.0000, 0.0000, 0.0000, 0.0000, 0.0000, 0.0000, 0.0000,\n",
            "          0.0000, 0.0000, 0.0000, 0.0000],\n",
            "         [0.0000, 0.0000, 0.0000, 0.0000, 0.2157, 0.6745, 0.8863, 0.9922,\n",
            "          0.9922, 0.9922, 0.9922, 0.9569, 0.5216, 0.0431, 0.0000, 0.0000,\n",
            "          0.0000, 0.0000, 0.0000, 0.0000, 0.0000, 0.0000, 0.0000, 0.0000,\n",
            "          0.0000, 0.0000, 0.0000, 0.0000],\n",
            "         [0.0000, 0.0000, 0.0000, 0.0000, 0.5333, 0.9922, 0.9922, 0.9922,\n",
            "          0.8314, 0.5294, 0.5176, 0.0627, 0.0000, 0.0000, 0.0000, 0.0000,\n",
            "          0.0000, 0.0000, 0.0000, 0.0000, 0.0000, 0.0000, 0.0000, 0.0000,\n",
            "          0.0000, 0.0000, 0.0000, 0.0000],\n",
            "         [0.0000, 0.0000, 0.0000, 0.0000, 0.0000, 0.0000, 0.0000, 0.0000,\n",
            "          0.0000, 0.0000, 0.0000, 0.0000, 0.0000, 0.0000, 0.0000, 0.0000,\n",
            "          0.0000, 0.0000, 0.0000, 0.0000, 0.0000, 0.0000, 0.0000, 0.0000,\n",
            "          0.0000, 0.0000, 0.0000, 0.0000],\n",
            "         [0.0000, 0.0000, 0.0000, 0.0000, 0.0000, 0.0000, 0.0000, 0.0000,\n",
            "          0.0000, 0.0000, 0.0000, 0.0000, 0.0000, 0.0000, 0.0000, 0.0000,\n",
            "          0.0000, 0.0000, 0.0000, 0.0000, 0.0000, 0.0000, 0.0000, 0.0000,\n",
            "          0.0000, 0.0000, 0.0000, 0.0000],\n",
            "         [0.0000, 0.0000, 0.0000, 0.0000, 0.0000, 0.0000, 0.0000, 0.0000,\n",
            "          0.0000, 0.0000, 0.0000, 0.0000, 0.0000, 0.0000, 0.0000, 0.0000,\n",
            "          0.0000, 0.0000, 0.0000, 0.0000, 0.0000, 0.0000, 0.0000, 0.0000,\n",
            "          0.0000, 0.0000, 0.0000, 0.0000]]]) 5\n"
          ]
        }
      ],
      "source": [
        "transformed_ds = MNIST(root='data/', train=True, transform=transforms.ToTensor())\n",
        "img_tensor, label = transformed_ds[0]\n",
        "print(img_tensor, label)"
      ]
    },
    {
      "cell_type": "markdown",
      "metadata": {
        "id": "kMiB3ZpQVnyA"
      },
      "source": [
        "Training and Validation Datasets"
      ]
    },
    {
      "cell_type": "code",
      "execution_count": null,
      "metadata": {
        "execution": {
          "iopub.execute_input": "2024-08-08T03:05:50.278812Z",
          "iopub.status.busy": "2024-08-08T03:05:50.278279Z",
          "iopub.status.idle": "2024-08-08T03:05:50.295558Z",
          "shell.execute_reply": "2024-08-08T03:05:50.294228Z",
          "shell.execute_reply.started": "2024-08-08T03:05:50.278771Z"
        },
        "trusted": true,
        "colab": {
          "base_uri": "https://localhost:8080/"
        },
        "id": "I-lpYUBuVnyA",
        "outputId": "041e7750-9f3e-4da9-b69f-d79f35b8fbd8"
      },
      "outputs": [
        {
          "output_type": "execute_result",
          "data": {
            "text/plain": [
              "(50000, 10000)"
            ]
          },
          "metadata": {},
          "execution_count": 8
        }
      ],
      "source": [
        "train_ds, val_ds = random_split(transformed_ds, [50000,10000])\n",
        "len(train_ds),len(val_ds)"
      ]
    },
    {
      "cell_type": "code",
      "execution_count": null,
      "metadata": {
        "execution": {
          "iopub.execute_input": "2024-08-08T03:07:32.275998Z",
          "iopub.status.busy": "2024-08-08T03:07:32.275009Z",
          "iopub.status.idle": "2024-08-08T03:07:32.281319Z",
          "shell.execute_reply": "2024-08-08T03:07:32.280250Z",
          "shell.execute_reply.started": "2024-08-08T03:07:32.275947Z"
        },
        "trusted": true,
        "id": "Sbds9Qc5VnyB"
      },
      "outputs": [],
      "source": [
        "#  Loading data in batches\n",
        "batch_size = 128\n",
        "train_loader = DataLoader(train_ds, batch_size, shuffle=True)\n",
        "val_loader = DataLoader(val_ds, batch_size)"
      ]
    },
    {
      "cell_type": "markdown",
      "metadata": {
        "id": "utArAzJ_VnyB"
      },
      "source": [
        "Baseline Model"
      ]
    },
    {
      "cell_type": "code",
      "execution_count": null,
      "metadata": {
        "execution": {
          "iopub.execute_input": "2024-08-08T03:23:30.981998Z",
          "iopub.status.busy": "2024-08-08T03:23:30.981567Z",
          "iopub.status.idle": "2024-08-08T03:23:30.998096Z",
          "shell.execute_reply": "2024-08-08T03:23:30.996931Z",
          "shell.execute_reply.started": "2024-08-08T03:23:30.981957Z"
        },
        "trusted": true,
        "id": "W4bAtsaYVnyB"
      },
      "outputs": [],
      "source": [
        "input_size = 28*28\n",
        "num_classes = 10"
      ]
    },
    {
      "cell_type": "code",
      "execution_count": null,
      "metadata": {
        "trusted": true,
        "id": "wBlEiYEMVnyB"
      },
      "outputs": [],
      "source": [
        "# Extending Mnist Model class\n",
        "class MnistModel(nn.Module):\n",
        "    #Class constructor\n",
        "    def __init__(self):\n",
        "        super().__init__()\n",
        "        self.linear = nn.Linear(input_size, num_classes)\n",
        "\n",
        "    # Method that generates outputs\n",
        "    def forward(self,xb):\n",
        "        xb = xb.reshape(-1,784) # Reshaping images into a 2-d tensor(vector) with a size of 784\n",
        "        output = self.linear(xb)\n",
        "        return output\n",
        "\n",
        "    # Method that generates predictions and losses for the training batch\n",
        "    def training_step(self,batch):\n",
        "        images,labels = batch\n",
        "        out = self(images)\n",
        "        loss = F.cross_entropy(out, labels)\n",
        "        return loss\n",
        "\n",
        "    # Method that generates predictions, accuracies, & losses for the validation batch\n",
        "    def validation_step(self,batch):\n",
        "        images,labels = batch\n",
        "        out = self(images)\n",
        "        loss = F.cross_entropy(out, labels)\n",
        "        acc = accuracy(out,labels)\n",
        "        return {\"val_loss\": loss, \"val_acc\": acc}\n",
        "\n",
        "    # Method that generates mean losses and accuracies for the entire validation batch size\n",
        "    def validation_epoch_end(self, outputs):\n",
        "        batch_losses = [x['val_loss'] for x in outputs]\n",
        "        epoch_loss = torch.stack(batch_losses).mean()\n",
        "        batch_accs = [x['val_acc'] for x in outputs]\n",
        "        epoch_acc = torch.stack(batch_accs).mean()\n",
        "        return {\"val_loss\": epoch_loss.item(), \"val_acc\": epoch_acc.item()}\n",
        "\n",
        "    # Method that formats the epoch losses and accuracies for the validation batch size\n",
        "    def epoch_end(self,epoch,result):\n",
        "        print(\"Epoch [{}], val_loss: {:.4f}, val_acc: {:.4f}\".format(epoch, result['val_loss'], result['val_acc']))\n",
        "\n",
        "model = MnistModel()\n"
      ]
    },
    {
      "cell_type": "code",
      "execution_count": null,
      "metadata": {
        "colab": {
          "base_uri": "https://localhost:8080/"
        },
        "id": "7Nowm7gkVnyB",
        "outputId": "02e3c7bc-f5cd-476b-89b4-d81b0f93bb7e"
      },
      "outputs": [
        {
          "output_type": "stream",
          "name": "stdout",
          "text": [
            "outputs.shape: torch.Size([128, 10])\n",
            "Sample outputs :\n",
            " tensor([[ 0.1579,  0.2903,  0.1580,  0.6354,  0.0769, -0.2044, -0.2965,  0.0740,\n",
            "          0.2596, -0.0828],\n",
            "        [ 0.1851, -0.1541,  0.0672,  0.2038,  0.2340,  0.1945, -0.1220,  0.1313,\n",
            "         -0.1091,  0.0353]])\n"
          ]
        }
      ],
      "source": [
        "# Generating outputs on the training set\n",
        "for images, labels in train_loader:\n",
        "    outputs = model(images)\n",
        "    break\n",
        "\n",
        "print('outputs.shape:', outputs.shape)\n",
        "print('Sample outputs :\\n', outputs[:2].data) # Some probabilities are negative\n"
      ]
    },
    {
      "cell_type": "code",
      "execution_count": null,
      "metadata": {
        "colab": {
          "base_uri": "https://localhost:8080/"
        },
        "id": "r5xLGWiBVnyC",
        "outputId": "51ba1932-a2a9-462e-91bf-28b206e44d80"
      },
      "outputs": [
        {
          "output_type": "stream",
          "name": "stdout",
          "text": [
            "Sample probabilities:\n",
            " tensor([[0.1018, 0.1163, 0.1019, 0.1642, 0.0939, 0.0709, 0.0647, 0.0936, 0.1127,\n",
            "         0.0800],\n",
            "        [0.1115, 0.0794, 0.0991, 0.1136, 0.1171, 0.1126, 0.0820, 0.1057, 0.0831,\n",
            "         0.0960]])\n",
            "Sum:  1.0\n"
          ]
        }
      ],
      "source": [
        "# Using Softmax to convert all probabilities to be between 0 & 1\n",
        "probs = F.softmax(outputs, dim=1)\n",
        "print(\"Sample probabilities:\\n\", probs[:2].data)\n",
        "print(\"Sum: \", torch.sum(probs[0]).item())"
      ]
    },
    {
      "cell_type": "code",
      "execution_count": null,
      "metadata": {
        "colab": {
          "base_uri": "https://localhost:8080/"
        },
        "id": "545bHazaVnyC",
        "outputId": "c49f205e-beef-4c6b-bfec-a39810ab6912"
      },
      "outputs": [
        {
          "output_type": "stream",
          "name": "stdout",
          "text": [
            "tensor([3, 4, 3, 3, 0, 3, 4, 4, 4, 3, 7, 3, 5, 1, 4, 0, 3, 3, 7, 0, 3, 4, 7, 3,\n",
            "        5, 7, 9, 7, 7, 9, 4, 8, 9, 3, 7, 4, 3, 7, 3, 3, 3, 0, 3, 3, 3, 3, 7, 0,\n",
            "        3, 4, 0, 8, 8, 9, 3, 4, 3, 3, 6, 7, 4, 3, 3, 4, 3, 4, 4, 9, 8, 4, 5, 3,\n",
            "        3, 3, 7, 7, 3, 3, 3, 4, 4, 3, 3, 6, 3, 3, 8, 8, 5, 4, 4, 8, 3, 3, 3, 7,\n",
            "        8, 3, 3, 0, 8, 3, 4, 2, 4, 3, 3, 6, 8, 4, 8, 3, 8, 3, 7, 8, 3, 6, 8, 2,\n",
            "        8, 3, 7, 3, 4, 8, 8, 3])\n",
            "tensor([0.1642, 0.1171, 0.1247, 0.1192, 0.1208, 0.1203, 0.1224, 0.1168, 0.1234,\n",
            "        0.1166, 0.1248, 0.1230, 0.1176, 0.1149, 0.1281, 0.1295, 0.1502, 0.1291,\n",
            "        0.1248, 0.1141, 0.1280, 0.1166, 0.1263, 0.1230, 0.1464, 0.1328, 0.1270,\n",
            "        0.1120, 0.1257, 0.1327, 0.1309, 0.1371, 0.1221, 0.1643, 0.1274, 0.1231,\n",
            "        0.1343, 0.1135, 0.1183, 0.1150, 0.1176, 0.1314, 0.1262, 0.1256, 0.1345,\n",
            "        0.1171, 0.1304, 0.1122, 0.1266, 0.1166, 0.1178, 0.1293, 0.1334, 0.1246,\n",
            "        0.1489, 0.1323, 0.1264, 0.1182, 0.1128, 0.1338, 0.1472, 0.1737, 0.1281,\n",
            "        0.1312, 0.1494, 0.1206, 0.1338, 0.1294, 0.1248, 0.1136, 0.1151, 0.1295,\n",
            "        0.1475, 0.1284, 0.1269, 0.1178, 0.1306, 0.1318, 0.1417, 0.1181, 0.1217,\n",
            "        0.1191, 0.1324, 0.1061, 0.1173, 0.1222, 0.1108, 0.1118, 0.1154, 0.1169,\n",
            "        0.1162, 0.1353, 0.1234, 0.1109, 0.1335, 0.1162, 0.1373, 0.1281, 0.1455,\n",
            "        0.1147, 0.1271, 0.1148, 0.1318, 0.1224, 0.1422, 0.1188, 0.1250, 0.1251,\n",
            "        0.1480, 0.1173, 0.1368, 0.1211, 0.1228, 0.1585, 0.1208, 0.1204, 0.1238,\n",
            "        0.1260, 0.1371, 0.1281, 0.1229, 0.1267, 0.1330, 0.1356, 0.1530, 0.1239,\n",
            "        0.1141, 0.1332], grad_fn=<MaxBackward0>)\n"
          ]
        }
      ],
      "source": [
        "# Picking the class with the highest probability\n",
        "max_probs, preds = torch.max(probs,dim=1)\n",
        "print(preds)\n",
        "print(max_probs)"
      ]
    },
    {
      "cell_type": "code",
      "execution_count": null,
      "metadata": {
        "id": "yiegzOC4VnyC"
      },
      "outputs": [],
      "source": [
        "# Evaluation metric: accuracy\n",
        "def accuracy(outputs,labels):\n",
        "    _, preds = torch.max(outputs,dim=1)\n",
        "    return torch.tensor(torch.sum(preds == labels).item()/len(preds)) # No need to apply softmax since e^x is an increasing function; if y1>y2, then e^y1 > e^y2"
      ]
    },
    {
      "cell_type": "code",
      "execution_count": null,
      "metadata": {
        "colab": {
          "base_uri": "https://localhost:8080/"
        },
        "id": "tPIQr8YDVnyC",
        "outputId": "70e4af47-b309-4a56-f63c-062659e28eb5"
      },
      "outputs": [
        {
          "output_type": "stream",
          "name": "stdout",
          "text": [
            "tensor(2.3101, grad_fn=<NllLossBackward0>)\n"
          ]
        }
      ],
      "source": [
        "# Loss function: cross-entropy\n",
        "loss_fn = F.cross_entropy\n",
        "loss = loss_fn(outputs,labels)\n",
        "print(loss)"
      ]
    },
    {
      "cell_type": "markdown",
      "metadata": {
        "id": "BxxWs2rWVnyC"
      },
      "source": [
        "Training the Model"
      ]
    },
    {
      "cell_type": "code",
      "execution_count": null,
      "metadata": {
        "id": "LXDseyK7VnyC"
      },
      "outputs": [],
      "source": [
        "# Defining a function that starts the training loop based on a specific batch size\n",
        "def fit(epochs,lr,model,train_dataset,val_dataset,batch_quant, opt_func=torch.optim.SGD):\n",
        "    train_loader = DataLoader(train_dataset, batch_size=batch_quant, shuffle=True)\n",
        "    val_loader = DataLoader(val_dataset, batch_size=batch_quant)\n",
        "\n",
        "    optimizer = opt_func(model.parameters(), lr)\n",
        "    history = []\n",
        "\n",
        "    for epoch in range(epochs):\n",
        "        # Training stage\n",
        "        for batch in train_loader:\n",
        "            loss = model.training_step(batch)\n",
        "            loss.backward()\n",
        "            optimizer.step()\n",
        "            optimizer.zero_grad()\n",
        "\n",
        "        # Validation stage\n",
        "        result = evaluate(model, val_loader)\n",
        "        model.epoch_end(epoch,result)\n",
        "        history.append(result)\n",
        "\n",
        "    return history\n",
        "\n"
      ]
    },
    {
      "cell_type": "code",
      "execution_count": null,
      "metadata": {
        "id": "itTndlv_VnyC"
      },
      "outputs": [],
      "source": [
        "# Creating a function that generates averages validation accuracies and losses\n",
        "def evaluate(model,val_loader):\n",
        "    outputs = [model.validation_step(batch) for batch in val_loader]\n",
        "    return model.validation_epoch_end(outputs)"
      ]
    },
    {
      "cell_type": "code",
      "execution_count": null,
      "metadata": {
        "colab": {
          "base_uri": "https://localhost:8080/"
        },
        "id": "InhLptuqVnyC",
        "outputId": "fa49ccef-1e4b-482c-cabf-92c443a412bc"
      },
      "outputs": [
        {
          "output_type": "stream",
          "name": "stdout",
          "text": [
            "Epoch [0], val_loss: 1.9445, val_acc: 0.6303\n",
            "Epoch [1], val_loss: 1.6762, val_acc: 0.7333\n",
            "Epoch [2], val_loss: 1.4757, val_acc: 0.7683\n",
            "Epoch [3], val_loss: 1.3245, val_acc: 0.7853\n",
            "Epoch [4], val_loss: 1.2083, val_acc: 0.7953\n"
          ]
        }
      ],
      "source": [
        "history1 = fit(5, 0.001, model, train_ds, val_ds, batch_quant = 128)"
      ]
    },
    {
      "cell_type": "code",
      "execution_count": null,
      "metadata": {
        "colab": {
          "base_uri": "https://localhost:8080/"
        },
        "id": "jZ3cXB9ZVnyD",
        "outputId": "f638ac11-36be-4313-bec1-1cbe4c5d1cdc"
      },
      "outputs": [
        {
          "output_type": "stream",
          "name": "stdout",
          "text": [
            "Epoch [0], val_loss: 1.1169, val_acc: 0.8059\n",
            "Epoch [1], val_loss: 1.0437, val_acc: 0.8154\n",
            "Epoch [2], val_loss: 0.9838, val_acc: 0.8229\n",
            "Epoch [3], val_loss: 0.9340, val_acc: 0.8258\n",
            "Epoch [4], val_loss: 0.8920, val_acc: 0.8291\n"
          ]
        }
      ],
      "source": [
        "history2 = fit(5, 0.001, model, train_ds, val_ds, batch_quant = 128)"
      ]
    },
    {
      "cell_type": "code",
      "execution_count": null,
      "metadata": {
        "colab": {
          "base_uri": "https://localhost:8080/"
        },
        "id": "P5IA1n5QVnyD",
        "outputId": "efb54e73-45d7-489f-c77f-8959d0f10efb"
      },
      "outputs": [
        {
          "output_type": "stream",
          "name": "stdout",
          "text": [
            "Epoch [0], val_loss: 0.8560, val_acc: 0.8329\n",
            "Epoch [1], val_loss: 0.8248, val_acc: 0.8356\n",
            "Epoch [2], val_loss: 0.7975, val_acc: 0.8383\n",
            "Epoch [3], val_loss: 0.7733, val_acc: 0.8402\n",
            "Epoch [4], val_loss: 0.7518, val_acc: 0.8428\n"
          ]
        }
      ],
      "source": [
        "history3 = fit(5, 0.001, model, train_ds, val_ds, batch_quant = 128)"
      ]
    },
    {
      "cell_type": "code",
      "execution_count": null,
      "metadata": {
        "colab": {
          "base_uri": "https://localhost:8080/"
        },
        "id": "028f5nsvVnyD",
        "outputId": "d349231a-641b-4985-ad8c-5594661999cf"
      },
      "outputs": [
        {
          "output_type": "stream",
          "name": "stdout",
          "text": [
            "Epoch [0], val_loss: 0.7326, val_acc: 0.8449\n",
            "Epoch [1], val_loss: 0.7152, val_acc: 0.8465\n",
            "Epoch [2], val_loss: 0.6993, val_acc: 0.8478\n",
            "Epoch [3], val_loss: 0.6849, val_acc: 0.8502\n",
            "Epoch [4], val_loss: 0.6717, val_acc: 0.8517\n"
          ]
        }
      ],
      "source": [
        "history4 = fit(5, 0.001, model, train_ds, val_ds, batch_quant = 128)"
      ]
    },
    {
      "cell_type": "code",
      "execution_count": null,
      "metadata": {
        "colab": {
          "base_uri": "https://localhost:8080/",
          "height": 489
        },
        "id": "oMOsV_xfVnyD",
        "outputId": "53b53a75-a797-4e37-9b3a-8374412decb0"
      },
      "outputs": [
        {
          "output_type": "execute_result",
          "data": {
            "text/plain": [
              "Text(0.5, 1.0, 'Accuracy Compared To # of Epochs')"
            ]
          },
          "metadata": {},
          "execution_count": 23
        },
        {
          "output_type": "display_data",
          "data": {
            "text/plain": [
              "<Figure size 640x480 with 1 Axes>"
            ],
            "image/png": "[encoded data removed]"
          },
          "metadata": {}
        }
      ],
      "source": [
        "history = history1+history2+history3+history4\n",
        "accuracies = [result['val_acc'] for result in history]\n",
        "plt.plot(accuracies, '-x')\n",
        "plt.xlabel('epoch')\n",
        "plt.ylabel('accuracy')\n",
        "plt.title('Accuracy Compared To # of Epochs')"
      ]
    },
    {
      "cell_type": "markdown",
      "metadata": {
        "id": "eXRB6I8EVnyD"
      },
      "source": [
        "Hyperparameter Tuning"
      ]
    },
    {
      "cell_type": "code",
      "execution_count": null,
      "metadata": {
        "id": "qL0V8RytVnyD"
      },
      "outputs": [],
      "source": [
        "# Defining objective function\n",
        "def objective(trial):\n",
        "\n",
        "    # Hyperparameters to tune\n",
        "    learning_rate = trial.suggest_loguniform('lr', 1e-3, 1e-1)\n",
        "    batch_size = trial.suggest_int('batch_size', 64,512)\n",
        "\n",
        "    # Create the model\n",
        "    model = MnistModel()\n",
        "\n",
        "    # Optimizer\n",
        "    optimizer = torch.optim.SGD(model.parameters(), lr=learning_rate)\n",
        "\n",
        "    # Train and val loaders\n",
        "    train_loader = DataLoader(train_ds, batch_size=batch_size, shuffle=True)\n",
        "    val_loader = DataLoader(val_ds, batch_size=batch_size)\n",
        "\n",
        "\n",
        "    num_epochs = 5\n",
        "    for epoch in range(num_epochs):\n",
        "        for batch in train_loader:\n",
        "\n",
        "             # Training Loop\n",
        "            loss = model.training_step(batch)\n",
        "            loss.backward()\n",
        "            optimizer.step()\n",
        "            optimizer.zero_grad()\n",
        "\n",
        "        # Validation Stage\n",
        "        result = evaluate(model, val_loader)\n",
        "\n",
        "    return result['val_acc']\n",
        "\n",
        "\n",
        "\n",
        "\n"
      ]
    },
    {
      "cell_type": "code",
      "execution_count": null,
      "metadata": {
        "colab": {
          "base_uri": "https://localhost:8080/"
        },
        "id": "2Dh1fiIJVnyD",
        "outputId": "e24ed57d-7a5c-4895-cc8e-0a0b203d3f42"
      },
      "outputs": [
        {
          "output_type": "stream",
          "name": "stderr",
          "text": [
            "[I 2024-08-08 19:12:07,994] A new study created in memory with name: no-name-f306bc51-e426-40b1-948e-26107d6a8d49\n",
            "<ipython-input-24-8e5b843462b8>:5: FutureWarning: suggest_loguniform has been deprecated in v3.0.0. This feature will be removed in v6.0.0. See https://github.com/optuna/optuna/releases/tag/v3.0.0. Use suggest_float(..., log=True) instead.\n",
            "  learning_rate = trial.suggest_loguniform('lr', 1e-5, 1e-1)\n",
            "[I 2024-08-08 19:12:50,348] Trial 0 finished with value: 0.8455597162246704 and parameters: {'lr': 0.00904110131958701, 'batch_size': 365}. Best is trial 0 with value: 0.8455597162246704.\n",
            "[I 2024-08-08 19:13:33,168] Trial 1 finished with value: 0.875388503074646 and parameters: {'lr': 0.024702264715233492, 'batch_size': 312}. Best is trial 1 with value: 0.875388503074646.\n",
            "[I 2024-08-08 19:14:15,401] Trial 2 finished with value: 0.8079388737678528 and parameters: {'lr': 0.004501380352236096, 'batch_size': 478}. Best is trial 1 with value: 0.875388503074646.\n",
            "[I 2024-08-08 19:14:57,232] Trial 3 finished with value: 0.23006972670555115 and parameters: {'lr': 0.00018348145550081988, 'batch_size': 391}. Best is trial 1 with value: 0.875388503074646.\n",
            "[I 2024-08-08 19:15:41,155] Trial 4 finished with value: 0.8669346570968628 and parameters: {'lr': 0.008708099769468479, 'batch_size': 159}. Best is trial 1 with value: 0.875388503074646.\n",
            "[I 2024-08-08 19:16:23,923] Trial 5 finished with value: 0.2860317528247833 and parameters: {'lr': 0.00022947434788848635, 'batch_size': 304}. Best is trial 1 with value: 0.875388503074646.\n",
            "[I 2024-08-08 19:17:05,784] Trial 6 finished with value: 0.7598914504051208 and parameters: {'lr': 0.0015752085640050664, 'batch_size': 364}. Best is trial 1 with value: 0.875388503074646.\n",
            "[I 2024-08-08 19:17:51,342] Trial 7 finished with value: 0.7278006076812744 and parameters: {'lr': 0.0003206377861372097, 'batch_size': 91}. Best is trial 1 with value: 0.875388503074646.\n",
            "[I 2024-08-08 19:18:35,719] Trial 8 finished with value: 0.7921038866043091 and parameters: {'lr': 0.0010417440603365698, 'batch_size': 137}. Best is trial 1 with value: 0.875388503074646.\n",
            "[I 2024-08-08 19:19:18,173] Trial 9 finished with value: 0.863584578037262 and parameters: {'lr': 0.008798992375644748, 'batch_size': 188}. Best is trial 1 with value: 0.875388503074646.\n"
          ]
        },
        {
          "output_type": "stream",
          "name": "stdout",
          "text": [
            "Best hyperparameters: {'lr': 0.024702264715233492, 'batch_size': 312}\n",
            "Best test accuracy: 0.8754\n",
            "Trial number with best test accuracy: 1\n"
          ]
        }
      ],
      "source": [
        "# Create a study object\n",
        "study = optuna.create_study(direction='maximize')\n",
        "study.optimize(objective, n_trials=10)  # Number of trials\n",
        "\n",
        "# Get the best trial\n",
        "best_trial = study.best_trial\n",
        "\n",
        "# Print the best hyperparameters, best accuracy, and trial number\n",
        "print(f\"Best hyperparameters: {best_trial.params}\")\n",
        "print(f\"Best test accuracy: {best_trial.value:.4f}\")\n",
        "print(f\"Trial number with best test accuracy: {best_trial.number}\")"
      ]
    },
    {
      "cell_type": "markdown",
      "source": [
        "Training With Best Hyperparameters"
      ],
      "metadata": {
        "id": "Mm9iQVl2cZQt"
      }
    },
    {
      "cell_type": "markdown",
      "metadata": {
        "id": "bvUSC_ypVnyD"
      },
      "source": []
    },
    {
      "cell_type": "code",
      "source": [
        "# Best hyperparameters\n",
        "{'lr': 0.08285848103758864, 'batch_size': 184} # Set A\n",
        "{'lr': 0.024702264715233492, 'batch_size': 312} # Set B"
      ],
      "metadata": {
        "id": "RGFZhcJDZ1vm"
      },
      "execution_count": null,
      "outputs": []
    },
    {
      "cell_type": "code",
      "source": [
        "hyperparam_model = MnistModel()"
      ],
      "metadata": {
        "id": "dghlSi75hLN9"
      },
      "execution_count": null,
      "outputs": []
    },
    {
      "cell_type": "code",
      "source": [
        "setA_history1 = fit(5,0.08285848103758864 , hyperparam_model, train_ds, val_ds, batch_quant = 184)"
      ],
      "metadata": {
        "colab": {
          "base_uri": "https://localhost:8080/"
        },
        "id": "UXxjblWndZJE",
        "outputId": "c11a3ae4-40c9-45c3-f081-ef497eb7e83e"
      },
      "execution_count": null,
      "outputs": [
        {
          "output_type": "stream",
          "name": "stdout",
          "text": [
            "Epoch [0], val_loss: 0.4771, val_acc: 0.8782\n",
            "Epoch [1], val_loss: 0.4048, val_acc: 0.8922\n",
            "Epoch [2], val_loss: 0.3741, val_acc: 0.8977\n",
            "Epoch [3], val_loss: 0.3564, val_acc: 0.9014\n",
            "Epoch [4], val_loss: 0.3429, val_acc: 0.9045\n"
          ]
        }
      ]
    },
    {
      "cell_type": "code",
      "source": [
        "setA_history2 = fit(5,0.08285848103758864 , hyperparam_model, train_ds, val_ds, batch_quant = 184)"
      ],
      "metadata": {
        "colab": {
          "base_uri": "https://localhost:8080/"
        },
        "id": "9FGgEY1yeIEF",
        "outputId": "2dc794f0-e93b-40d0-ba3f-930b7c5abe1c"
      },
      "execution_count": null,
      "outputs": [
        {
          "output_type": "stream",
          "name": "stdout",
          "text": [
            "Epoch [0], val_loss: 0.3348, val_acc: 0.9056\n",
            "Epoch [1], val_loss: 0.3278, val_acc: 0.9066\n",
            "Epoch [2], val_loss: 0.3217, val_acc: 0.9087\n",
            "Epoch [3], val_loss: 0.3181, val_acc: 0.9098\n",
            "Epoch [4], val_loss: 0.3128, val_acc: 0.9118\n"
          ]
        }
      ]
    },
    {
      "cell_type": "code",
      "source": [
        "setA_history3 = fit(5,0.08285848103758864 , hyperparam_model, train_ds, val_ds, batch_quant = 184)"
      ],
      "metadata": {
        "colab": {
          "base_uri": "https://localhost:8080/"
        },
        "id": "xBXM3mJYedAO",
        "outputId": "c87e031a-7bbc-469a-bf1b-46aa2f4674fa"
      },
      "execution_count": null,
      "outputs": [
        {
          "output_type": "stream",
          "name": "stdout",
          "text": [
            "Epoch [0], val_loss: 0.3095, val_acc: 0.9130\n",
            "Epoch [1], val_loss: 0.3068, val_acc: 0.9134\n",
            "Epoch [2], val_loss: 0.3049, val_acc: 0.9134\n",
            "Epoch [3], val_loss: 0.3024, val_acc: 0.9147\n",
            "Epoch [4], val_loss: 0.3006, val_acc: 0.9154\n"
          ]
        }
      ]
    },
    {
      "cell_type": "code",
      "source": [
        "setA_history4 = fit(5,0.08285848103758864 , hyperparam_model, train_ds, val_ds, batch_quant = 184)"
      ],
      "metadata": {
        "colab": {
          "base_uri": "https://localhost:8080/"
        },
        "id": "FsJwb1G4e01v",
        "outputId": "143ca1d4-b156-4c01-8d5f-6ec88227162f"
      },
      "execution_count": null,
      "outputs": [
        {
          "output_type": "stream",
          "name": "stdout",
          "text": [
            "Epoch [0], val_loss: 0.2994, val_acc: 0.9154\n",
            "Epoch [1], val_loss: 0.2963, val_acc: 0.9175\n",
            "Epoch [2], val_loss: 0.2953, val_acc: 0.9159\n",
            "Epoch [3], val_loss: 0.2939, val_acc: 0.9169\n",
            "Epoch [4], val_loss: 0.2925, val_acc: 0.9176\n"
          ]
        }
      ]
    },
    {
      "cell_type": "code",
      "source": [
        "setA_history5 = fit(30,0.08285848103758864 , hyperparam_model, train_ds, val_ds, batch_quant = 184)"
      ],
      "metadata": {
        "colab": {
          "base_uri": "https://localhost:8080/"
        },
        "id": "IutVQIqWfIMd",
        "outputId": "b2468c4d-cadb-440e-9363-e34f74a8be5a"
      },
      "execution_count": null,
      "outputs": [
        {
          "output_type": "stream",
          "name": "stdout",
          "text": [
            "Epoch [0], val_loss: 0.2914, val_acc: 0.9180\n",
            "Epoch [1], val_loss: 0.2904, val_acc: 0.9177\n",
            "Epoch [2], val_loss: 0.2896, val_acc: 0.9192\n",
            "Epoch [3], val_loss: 0.2888, val_acc: 0.9184\n",
            "Epoch [4], val_loss: 0.2879, val_acc: 0.9182\n",
            "Epoch [5], val_loss: 0.2869, val_acc: 0.9189\n",
            "Epoch [6], val_loss: 0.2874, val_acc: 0.9185\n",
            "Epoch [7], val_loss: 0.2857, val_acc: 0.9189\n",
            "Epoch [8], val_loss: 0.2852, val_acc: 0.9201\n",
            "Epoch [9], val_loss: 0.2846, val_acc: 0.9195\n",
            "Epoch [10], val_loss: 0.2840, val_acc: 0.9194\n",
            "Epoch [11], val_loss: 0.2836, val_acc: 0.9212\n",
            "Epoch [12], val_loss: 0.2830, val_acc: 0.9204\n",
            "Epoch [13], val_loss: 0.2825, val_acc: 0.9199\n",
            "Epoch [14], val_loss: 0.2828, val_acc: 0.9200\n",
            "Epoch [15], val_loss: 0.2814, val_acc: 0.9203\n",
            "Epoch [16], val_loss: 0.2817, val_acc: 0.9207\n",
            "Epoch [17], val_loss: 0.2809, val_acc: 0.9200\n",
            "Epoch [18], val_loss: 0.2806, val_acc: 0.9207\n",
            "Epoch [19], val_loss: 0.2800, val_acc: 0.9216\n",
            "Epoch [20], val_loss: 0.2799, val_acc: 0.9217\n",
            "Epoch [21], val_loss: 0.2794, val_acc: 0.9215\n",
            "Epoch [22], val_loss: 0.2791, val_acc: 0.9219\n",
            "Epoch [23], val_loss: 0.2787, val_acc: 0.9225\n",
            "Epoch [24], val_loss: 0.2786, val_acc: 0.9220\n",
            "Epoch [25], val_loss: 0.2782, val_acc: 0.9211\n",
            "Epoch [26], val_loss: 0.2779, val_acc: 0.9223\n",
            "Epoch [27], val_loss: 0.2782, val_acc: 0.9221\n",
            "Epoch [28], val_loss: 0.2773, val_acc: 0.9222\n",
            "Epoch [29], val_loss: 0.2772, val_acc: 0.9223\n"
          ]
        }
      ]
    },
    {
      "cell_type": "code",
      "source": [
        "history_setA = setA_history1 + setA_history2 + setA_history3 + setA_history4 + setA_history5\n",
        "accuracies_setA = [result['val_acc'] for result in history_setA]\n",
        "plt.plot(accuracies_setA, '-x')\n",
        "plt.xlabel('epoch')\n",
        "plt.ylabel('accuracy')\n",
        "plt.title('Accuracy Compared To # of Epochs for Set A')"
      ],
      "metadata": {
        "colab": {
          "base_uri": "https://localhost:8080/",
          "height": 489
        },
        "id": "JWbLNsrMkP01",
        "outputId": "7f3213bf-7370-4911-e68e-b385d4575e6b"
      },
      "execution_count": null,
      "outputs": [
        {
          "output_type": "execute_result",
          "data": {
            "text/plain": [
              "Text(0.5, 1.0, 'Accuracy Compared To # of Epochs for Set A')"
            ]
          },
          "metadata": {},
          "execution_count": 44
        },
        {
          "output_type": "display_data",
          "data": {
            "text/plain": [
              "<Figure size 640x480 with 1 Axes>"
            ],
            "image/png": "[encoded data removed]"
          },
          "metadata": {}
        }
      ]
    },
    {
      "cell_type": "code",
      "source": [
        "hyperparam_model_1 = MnistModel()"
      ],
      "metadata": {
        "id": "0TWFRnKMjkIt"
      },
      "execution_count": null,
      "outputs": []
    },
    {
      "cell_type": "code",
      "source": [
        "setB_history1 = fit(5,0.024702264715233492, hyperparam_model_1, train_ds, val_ds, batch_quant = 312)"
      ],
      "metadata": {
        "colab": {
          "base_uri": "https://localhost:8080/"
        },
        "id": "rxrZDvfIgRxW",
        "outputId": "27277c50-d903-4001-9e88-4c707310f9a2"
      },
      "execution_count": null,
      "outputs": [
        {
          "output_type": "stream",
          "name": "stdout",
          "text": [
            "Epoch [0], val_loss: 0.8866, val_acc: 0.8259\n",
            "Epoch [1], val_loss: 0.6695, val_acc: 0.8525\n",
            "Epoch [2], val_loss: 0.5799, val_acc: 0.8634\n",
            "Epoch [3], val_loss: 0.5297, val_acc: 0.8703\n",
            "Epoch [4], val_loss: 0.4967, val_acc: 0.8757\n"
          ]
        }
      ]
    },
    {
      "cell_type": "code",
      "source": [
        "setB_history2 = fit(5,0.024702264715233492,hyperparam_model_1, train_ds, val_ds, batch_quant = 312)"
      ],
      "metadata": {
        "colab": {
          "base_uri": "https://localhost:8080/"
        },
        "id": "RiSX3hY_gvfk",
        "outputId": "dfd40400-4a0e-4be4-e5b8-9b1abd9a43db"
      },
      "execution_count": null,
      "outputs": [
        {
          "output_type": "stream",
          "name": "stdout",
          "text": [
            "Epoch [0], val_loss: 0.4728, val_acc: 0.8801\n",
            "Epoch [1], val_loss: 0.4547, val_acc: 0.8816\n",
            "Epoch [2], val_loss: 0.4404, val_acc: 0.8864\n",
            "Epoch [3], val_loss: 0.4290, val_acc: 0.8881\n",
            "Epoch [4], val_loss: 0.4189, val_acc: 0.8899\n"
          ]
        }
      ]
    },
    {
      "cell_type": "code",
      "source": [
        "setB_history3 = fit(5,0.024702264715233492,hyperparam_model_1, train_ds, val_ds, batch_quant = 312)"
      ],
      "metadata": {
        "colab": {
          "base_uri": "https://localhost:8080/"
        },
        "id": "PDqs7N1QjtBd",
        "outputId": "ea4b0f0d-d56d-4d14-8f0a-8d7a95f280b6"
      },
      "execution_count": null,
      "outputs": [
        {
          "output_type": "stream",
          "name": "stdout",
          "text": [
            "Epoch [0], val_loss: 0.4103, val_acc: 0.8913\n",
            "Epoch [1], val_loss: 0.4036, val_acc: 0.8929\n",
            "Epoch [2], val_loss: 0.3964, val_acc: 0.8953\n",
            "Epoch [3], val_loss: 0.3907, val_acc: 0.8944\n",
            "Epoch [4], val_loss: 0.3857, val_acc: 0.8955\n"
          ]
        }
      ]
    },
    {
      "cell_type": "code",
      "source": [
        "setB_history4 = fit(5,0.024702264715233492,hyperparam_model_1, train_ds, val_ds, batch_quant = 312)"
      ],
      "metadata": {
        "colab": {
          "base_uri": "https://localhost:8080/"
        },
        "id": "ZL5BjtOFjvM9",
        "outputId": "e6080383-19ca-4f01-8042-01ab28a1ff98"
      },
      "execution_count": null,
      "outputs": [
        {
          "output_type": "stream",
          "name": "stdout",
          "text": [
            "Epoch [0], val_loss: 0.3811, val_acc: 0.8968\n",
            "Epoch [1], val_loss: 0.3770, val_acc: 0.8974\n",
            "Epoch [2], val_loss: 0.3730, val_acc: 0.8976\n",
            "Epoch [3], val_loss: 0.3693, val_acc: 0.8987\n",
            "Epoch [4], val_loss: 0.3661, val_acc: 0.8992\n"
          ]
        }
      ]
    },
    {
      "cell_type": "code",
      "source": [
        "setB_history5 = fit(30,0.024702264715233492,hyperparam_model_1, train_ds, val_ds, batch_quant = 312)"
      ],
      "metadata": {
        "colab": {
          "base_uri": "https://localhost:8080/"
        },
        "id": "MBhezH70jw9t",
        "outputId": "b7228faf-4a45-4978-8216-d2b4b6cfb210"
      },
      "execution_count": null,
      "outputs": [
        {
          "output_type": "stream",
          "name": "stdout",
          "text": [
            "Epoch [0], val_loss: 0.3521, val_acc: 0.9022\n",
            "Epoch [1], val_loss: 0.3501, val_acc: 0.9026\n",
            "Epoch [2], val_loss: 0.3480, val_acc: 0.9036\n",
            "Epoch [3], val_loss: 0.3461, val_acc: 0.9038\n",
            "Epoch [4], val_loss: 0.3443, val_acc: 0.9038\n",
            "Epoch [5], val_loss: 0.3424, val_acc: 0.9043\n",
            "Epoch [6], val_loss: 0.3408, val_acc: 0.9053\n",
            "Epoch [7], val_loss: 0.3394, val_acc: 0.9057\n",
            "Epoch [8], val_loss: 0.3378, val_acc: 0.9064\n",
            "Epoch [9], val_loss: 0.3364, val_acc: 0.9061\n",
            "Epoch [10], val_loss: 0.3350, val_acc: 0.9062\n",
            "Epoch [11], val_loss: 0.3340, val_acc: 0.9064\n",
            "Epoch [12], val_loss: 0.3325, val_acc: 0.9071\n",
            "Epoch [13], val_loss: 0.3313, val_acc: 0.9078\n",
            "Epoch [14], val_loss: 0.3303, val_acc: 0.9067\n",
            "Epoch [15], val_loss: 0.3290, val_acc: 0.9074\n",
            "Epoch [16], val_loss: 0.3279, val_acc: 0.9077\n",
            "Epoch [17], val_loss: 0.3269, val_acc: 0.9078\n",
            "Epoch [18], val_loss: 0.3259, val_acc: 0.9083\n",
            "Epoch [19], val_loss: 0.3251, val_acc: 0.9078\n",
            "Epoch [20], val_loss: 0.3240, val_acc: 0.9087\n",
            "Epoch [21], val_loss: 0.3232, val_acc: 0.9083\n",
            "Epoch [22], val_loss: 0.3221, val_acc: 0.9088\n",
            "Epoch [23], val_loss: 0.3214, val_acc: 0.9111\n",
            "Epoch [24], val_loss: 0.3205, val_acc: 0.9106\n",
            "Epoch [25], val_loss: 0.3198, val_acc: 0.9114\n",
            "Epoch [26], val_loss: 0.3190, val_acc: 0.9111\n",
            "Epoch [27], val_loss: 0.3185, val_acc: 0.9111\n",
            "Epoch [28], val_loss: 0.3176, val_acc: 0.9121\n",
            "Epoch [29], val_loss: 0.3167, val_acc: 0.9125\n"
          ]
        }
      ]
    },
    {
      "cell_type": "code",
      "source": [
        "# Set A seems to be the better set of hyperparameters"
      ],
      "metadata": {
        "id": "fLSUicngmn61"
      },
      "execution_count": null,
      "outputs": []
    },
    {
      "cell_type": "markdown",
      "source": [
        "Testing"
      ],
      "metadata": {
        "id": "tFdPTqmcm2X1"
      }
    },
    {
      "cell_type": "code",
      "source": [
        "test_dataset = MNIST(root='data/',\n",
        "                     train=False,\n",
        "                     transform=transforms.ToTensor())"
      ],
      "metadata": {
        "id": "DYkDVVfFm3lF"
      },
      "execution_count": null,
      "outputs": []
    },
    {
      "cell_type": "code",
      "source": [
        "# Creating a function that predicts the digits\n",
        "def predict_image(img, model):\n",
        "    xb = img.unsqueeze(0)\n",
        "    yb = model(xb)\n",
        "    _, preds = torch.max(yb, dim=1)\n",
        "    return preds[0].item()"
      ],
      "metadata": {
        "id": "BGovddGKm5WV"
      },
      "execution_count": null,
      "outputs": []
    },
    {
      "cell_type": "code",
      "source": [
        "img, label = test_dataset[0]\n",
        "plt.imshow(img[0], cmap='gray')\n",
        "print('Label:', label, ', Predicted:', predict_image(img, hyperparam_model))"
      ],
      "metadata": {
        "colab": {
          "base_uri": "https://localhost:8080/",
          "height": 447
        },
        "id": "fUHdN8KznF2V",
        "outputId": "d234c3d5-a8cf-42d1-be08-41f1b41a62ea"
      },
      "execution_count": null,
      "outputs": [
        {
          "output_type": "stream",
          "name": "stdout",
          "text": [
            "Label: 7 , Predicted: 7\n"
          ]
        },
        {
          "output_type": "display_data",
          "data": {
            "text/plain": [
              "<Figure size 640x480 with 1 Axes>"
            ],
            "image/png": "[encoded data removed]"
          },
          "metadata": {}
        }
      ]
    },
    {
      "cell_type": "code",
      "source": [
        "img, label = test_dataset[1839]\n",
        "plt.imshow(img[0], cmap='gray')\n",
        "print('Label:', label, ', Predicted:', predict_image(img, hyperparam_model))"
      ],
      "metadata": {
        "colab": {
          "base_uri": "https://localhost:8080/",
          "height": 447
        },
        "id": "PE04DMkhnLC9",
        "outputId": "a8cc5482-40d6-4b70-e5fa-5ec64c76f0f5"
      },
      "execution_count": null,
      "outputs": [
        {
          "output_type": "stream",
          "name": "stdout",
          "text": [
            "Label: 2 , Predicted: 2\n"
          ]
        },
        {
          "output_type": "display_data",
          "data": {
            "text/plain": [
              "<Figure size 640x480 with 1 Axes>"
            ],
            "image/png": "[encoded data removed]"
          },
          "metadata": {}
        }
      ]
    },
    {
      "cell_type": "code",
      "source": [
        "img, label = test_dataset[193]\n",
        "plt.imshow(img[0], cmap='gray')\n",
        "print('Label:', label, ', Predicted:', predict_image(img, hyperparam_model))"
      ],
      "metadata": {
        "colab": {
          "base_uri": "https://localhost:8080/",
          "height": 447
        },
        "id": "Ux9sYNtEnaFm",
        "outputId": "dcc91a60-6adc-4f01-ea4e-04cbfd674cab"
      },
      "execution_count": null,
      "outputs": [
        {
          "output_type": "stream",
          "name": "stdout",
          "text": [
            "Label: 9 , Predicted: 3\n"
          ]
        },
        {
          "output_type": "display_data",
          "data": {
            "text/plain": [
              "<Figure size 640x480 with 1 Axes>"
            ],
            "image/png": "[encoded data removed]"
          },
          "metadata": {}
        }
      ]
    },
    {
      "cell_type": "code",
      "source": [
        "test_loader = DataLoader(test_dataset, batch_size = 128)\n",
        "result = evaluate(model, test_loader)\n",
        "result"
      ],
      "metadata": {
        "colab": {
          "base_uri": "https://localhost:8080/"
        },
        "id": "VGjDHTQenfQE",
        "outputId": "031ea141-1c98-4673-8469-98ab9a5300fb"
      },
      "execution_count": null,
      "outputs": [
        {
          "output_type": "execute_result",
          "data": {
            "text/plain": [
              "{'val_loss': 0.27149301767349243, 'val_acc': 0.9228639006614685}"
            ]
          },
          "metadata": {},
          "execution_count": 58
        }
      ]
    },
    {
      "cell_type": "code",
      "source": [
        "test_loader_setA = DataLoader(test_dataset, batch_size = 184)\n",
        "result = evaluate(hyperparam_model, test_loader)\n",
        "result"
      ],
      "metadata": {
        "colab": {
          "base_uri": "https://localhost:8080/"
        },
        "id": "iLQJYXzKnrPe",
        "outputId": "1ba7734f-4154-492c-cbca-900a21d4c11b"
      },
      "execution_count": null,
      "outputs": [
        {
          "output_type": "execute_result",
          "data": {
            "text/plain": [
              "{'val_loss': 0.27233371138572693, 'val_acc': 0.9231606125831604}"
            ]
          },
          "metadata": {},
          "execution_count": 59
        }
      ]
    },
    {
      "cell_type": "code",
      "source": [
        "test_loader = DataLoader(test_dataset, batch_size = 312)\n",
        "result = evaluate(hyperparam_model_1, test_loader)\n",
        "result"
      ],
      "metadata": {
        "colab": {
          "base_uri": "https://localhost:8080/"
        },
        "id": "h4-SXUy1n3O2",
        "outputId": "aaf01b60-0956-4fe4-cdc6-e225e50eebc3"
      },
      "execution_count": null,
      "outputs": [
        {
          "output_type": "execute_result",
          "data": {
            "text/plain": [
              "{'val_loss': 0.2981164753437042, 'val_acc': 0.9168123602867126}"
            ]
          },
          "metadata": {},
          "execution_count": 60
        }
      ]
    },
    {
      "cell_type": "markdown",
      "source": [],
      "metadata": {
        "id": "NnlAeAh9mrXb"
      }
    }
  ],
  "metadata": {
    "kaggle": {
      "accelerator": "none",
      "dataSources": [],
      "isGpuEnabled": false,
      "isInternetEnabled": false,
      "language": "python",
      "sourceType": "notebook"
    },
    "kernelspec": {
      "display_name": "Python 3",
      "language": "python",
      "name": "python3"
    },
    "language_info": {
      "codemirror_mode": {
        "name": "ipython",
        "version": 3
      },
      "file_extension": ".py",
      "mimetype": "text/x-python",
      "name": "python",
      "nbconvert_exporter": "python",
      "pygments_lexer": "ipython3",
      "version": "3.12.3"
    },
    "colab": {
      "provenance": [],
      "include_colab_link": true
    }
  },
  "nbformat": 4,
  "nbformat_minor": 0
}