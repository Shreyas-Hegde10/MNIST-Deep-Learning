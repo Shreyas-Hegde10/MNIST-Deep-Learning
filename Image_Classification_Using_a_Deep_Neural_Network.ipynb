{
  "metadata": {
    "kernelspec": {
      "language": "python",
      "display_name": "Python 3",
      "name": "python3"
    },
    "language_info": {
      "name": "python",
      "version": "3.10.14",
      "mimetype": "text/x-python",
      "codemirror_mode": {
        "name": "ipython",
        "version": 3
      },
      "pygments_lexer": "ipython3",
      "nbconvert_exporter": "python",
      "file_extension": ".py"
    },
    "kaggle": {
      "accelerator": "nvidiaTeslaT4",
      "dataSources": [],
      "dockerImageVersionId": 30762,
      "isInternetEnabled": true,
      "language": "python",
      "sourceType": "notebook",
      "isGpuEnabled": true
    },
    "colab": {
      "name": "Image Classification Using a Deep Neural Network",
      "provenance": [],
      "toc_visible": true,
      "include_colab_link": true
    }
  },
  "nbformat_minor": 0,
  "nbformat": 4,
  "cells": [
    {
      "cell_type": "markdown",
      "metadata": {
        "id": "view-in-github",
        "colab_type": "text"
      },
      "source": [
        "<a href=\"https://colab.research.google.com/github/Shreyas-Hegde10/MNIST-Deep-Learning/blob/main/Image_Classification_Using_a_Deep_Neural_Network.ipynb\" target=\"_parent\"><img src=\"https://colab.research.google.com/assets/colab-badge.svg\" alt=\"Open In Colab\"/></a>"
      ]
    },
    {
      "cell_type": "code",
      "source": [
        "# This Python 3 environment comes with many helpful analytics libraries installed\n",
        "# It is defined by the kaggle/python Docker image: https://github.com/kaggle/docker-python\n",
        "# For example, here's several helpful packages to load\n",
        "\n",
        "import numpy as np # linear algebra\n",
        "import pandas as pd # data processing, CSV file I/O (e.g. pd.read_csv)\n",
        "import torch\n",
        "import torchvision\n",
        "import numpy as np\n",
        "import matplotlib\n",
        "import matplotlib.pyplot as plt\n",
        "import torch.nn as nn\n",
        "import torch.nn.functional as F\n",
        "from torchvision.datasets import MNIST\n",
        "from torchvision.transforms import ToTensor\n",
        "from torchvision.utils import make_grid\n",
        "from torch.utils.data.dataloader import DataLoader\n",
        "from torch.utils.data import random_split\n",
        "import optuna\n",
        "%matplotlib inline\n",
        "\n",
        "# Use a white background for matplotlib figures\n",
        "matplotlib.rcParams['figure.facecolor'] = '#ffffff'\n",
        "\n",
        "# Input data files are available in the read-only \"../input/\" directory\n",
        "# For example, running this (by clicking run or pressing Shift+Enter) will list all files under the input directory\n",
        "\n",
        "import os\n",
        "for dirname, _, filenames in os.walk('/kaggle/input'):\n",
        "    for filename in filenames:\n",
        "        print(os.path.join(dirname, filename))\n",
        "\n",
        "# You can write up to 20GB to the current directory (/kaggle/working/) that gets preserved as output when you create a version using \"Save & Run All\"\n",
        "# You can also write temporary files to /kaggle/temp/, but they won't be saved outside of the current session"
      ],
      "metadata": {
        "_uuid": "8f2839f25d086af736a60e9eeb907d3b93b6e0e5",
        "_cell_guid": "b1076dfc-b9ad-4769-8c92-a6c4dae69d19",
        "execution": {
          "iopub.status.busy": "2024-09-01T15:45:45.42132Z",
          "iopub.execute_input": "2024-09-01T15:45:45.421912Z",
          "iopub.status.idle": "2024-09-01T15:45:50.817899Z",
          "shell.execute_reply.started": "2024-09-01T15:45:45.421871Z",
          "shell.execute_reply": "2024-09-01T15:45:50.816817Z"
        },
        "trusted": true,
        "id": "pJB3gYqjgGzA"
      },
      "execution_count": null,
      "outputs": []
    },
    {
      "cell_type": "markdown",
      "source": [
        "Loading Dataset"
      ],
      "metadata": {
        "id": "kA6XRb-EgGzG"
      }
    },
    {
      "cell_type": "code",
      "source": [
        "dataset = MNIST(root='data/', download=True, transform=ToTensor())"
      ],
      "metadata": {
        "execution": {
          "iopub.status.busy": "2024-09-01T15:45:50.819833Z",
          "iopub.execute_input": "2024-09-01T15:45:50.820683Z",
          "iopub.status.idle": "2024-09-01T15:45:53.867516Z",
          "shell.execute_reply.started": "2024-09-01T15:45:50.820636Z",
          "shell.execute_reply": "2024-09-01T15:45:53.866431Z"
        },
        "trusted": true,
        "id": "CKB3DL9SgGzJ",
        "outputId": "add2b372-7bdc-45c1-f26f-8480d76120d6"
      },
      "execution_count": null,
      "outputs": [
        {
          "name": "stdout",
          "text": "Downloading http://yann.lecun.com/exdb/mnist/train-images-idx3-ubyte.gz\nFailed to download (trying next):\nHTTP Error 403: Forbidden\n\nDownloading https://ossci-datasets.s3.amazonaws.com/mnist/train-images-idx3-ubyte.gz\nDownloading https://ossci-datasets.s3.amazonaws.com/mnist/train-images-idx3-ubyte.gz to data/MNIST/raw/train-images-idx3-ubyte.gz\n",
          "output_type": "stream"
        },
        {
          "name": "stderr",
          "text": "100%|██████████| 9912422/9912422 [00:00<00:00, 33311735.82it/s]\n",
          "output_type": "stream"
        },
        {
          "name": "stdout",
          "text": "Extracting data/MNIST/raw/train-images-idx3-ubyte.gz to data/MNIST/raw\n\nDownloading http://yann.lecun.com/exdb/mnist/train-labels-idx1-ubyte.gz\nFailed to download (trying next):\nHTTP Error 403: Forbidden\n\nDownloading https://ossci-datasets.s3.amazonaws.com/mnist/train-labels-idx1-ubyte.gz\nDownloading https://ossci-datasets.s3.amazonaws.com/mnist/train-labels-idx1-ubyte.gz to data/MNIST/raw/train-labels-idx1-ubyte.gz\n",
          "output_type": "stream"
        },
        {
          "name": "stderr",
          "text": "100%|██████████| 28881/28881 [00:00<00:00, 956339.46it/s]\n",
          "output_type": "stream"
        },
        {
          "name": "stdout",
          "text": "Extracting data/MNIST/raw/train-labels-idx1-ubyte.gz to data/MNIST/raw\n\nDownloading http://yann.lecun.com/exdb/mnist/t10k-images-idx3-ubyte.gz\nFailed to download (trying next):\nHTTP Error 403: Forbidden\n\nDownloading https://ossci-datasets.s3.amazonaws.com/mnist/t10k-images-idx3-ubyte.gz\nDownloading https://ossci-datasets.s3.amazonaws.com/mnist/t10k-images-idx3-ubyte.gz to data/MNIST/raw/t10k-images-idx3-ubyte.gz\n",
          "output_type": "stream"
        },
        {
          "name": "stderr",
          "text": "100%|██████████| 1648877/1648877 [00:00<00:00, 8983847.26it/s]\n",
          "output_type": "stream"
        },
        {
          "name": "stdout",
          "text": "Extracting data/MNIST/raw/t10k-images-idx3-ubyte.gz to data/MNIST/raw\n\nDownloading http://yann.lecun.com/exdb/mnist/t10k-labels-idx1-ubyte.gz\nFailed to download (trying next):\nHTTP Error 403: Forbidden\n\nDownloading https://ossci-datasets.s3.amazonaws.com/mnist/t10k-labels-idx1-ubyte.gz\nDownloading https://ossci-datasets.s3.amazonaws.com/mnist/t10k-labels-idx1-ubyte.gz to data/MNIST/raw/t10k-labels-idx1-ubyte.gz\n",
          "output_type": "stream"
        },
        {
          "name": "stderr",
          "text": "100%|██████████| 4542/4542 [00:00<00:00, 2801548.35it/s]",
          "output_type": "stream"
        },
        {
          "name": "stdout",
          "text": "Extracting data/MNIST/raw/t10k-labels-idx1-ubyte.gz to data/MNIST/raw\n\n",
          "output_type": "stream"
        },
        {
          "name": "stderr",
          "text": "\n",
          "output_type": "stream"
        }
      ]
    },
    {
      "cell_type": "markdown",
      "source": [
        "Viewing Samples"
      ],
      "metadata": {
        "id": "OdCocE1NgGzM"
      }
    },
    {
      "cell_type": "code",
      "source": [
        "image, label = dataset[0]\n",
        "print('image.shape:', image.shape)\n",
        "plt.imshow(image.permute(1, 2, 0), cmap='gray')\n",
        "print('Label:', label)"
      ],
      "metadata": {
        "execution": {
          "iopub.status.busy": "2024-09-01T15:45:53.86908Z",
          "iopub.execute_input": "2024-09-01T15:45:53.869439Z",
          "iopub.status.idle": "2024-09-01T15:45:54.164631Z",
          "shell.execute_reply.started": "2024-09-01T15:45:53.869399Z",
          "shell.execute_reply": "2024-09-01T15:45:54.163641Z"
        },
        "trusted": true,
        "id": "SI2SlLqPgGzM",
        "outputId": "55d20ad5-907e-40f5-d61c-19baaa73ef19"
      },
      "execution_count": null,
      "outputs": [
        {
          "name": "stdout",
          "text": "image.shape: torch.Size([1, 28, 28])\nLabel: 5\n",
          "output_type": "stream"
        },
        {
          "output_type": "display_data",
          "data": {
            "text/plain": "<Figure size 640x480 with 1 Axes>",
            "image/png": "[encoded data removed]"
          },
          "metadata": {}
        }
      ]
    },
    {
      "cell_type": "markdown",
      "source": [
        "Creating Training and Validation Steps"
      ],
      "metadata": {
        "id": "yP52GDL4gGzN"
      }
    },
    {
      "cell_type": "code",
      "source": [
        "val_size = 10000\n",
        "test_size = 5000\n",
        "train_size = len(dataset) - val_size - test_size\n",
        "\n",
        "train_ds, val_ds, test_ds = random_split(dataset, [train_size, val_size, test_size])\n",
        "print(len(train_ds),len(val_ds), len(test_ds))"
      ],
      "metadata": {
        "execution": {
          "iopub.status.busy": "2024-09-01T15:45:54.167269Z",
          "iopub.execute_input": "2024-09-01T15:45:54.167572Z",
          "iopub.status.idle": "2024-09-01T15:45:54.186728Z",
          "shell.execute_reply.started": "2024-09-01T15:45:54.16754Z",
          "shell.execute_reply": "2024-09-01T15:45:54.18589Z"
        },
        "trusted": true,
        "id": "-OCfH400gGzO",
        "outputId": "258ab4a7-1ba1-4dd4-d3e1-3db7cbea567a"
      },
      "execution_count": null,
      "outputs": [
        {
          "name": "stdout",
          "text": "45000 10000 5000\n",
          "output_type": "stream"
        }
      ]
    },
    {
      "cell_type": "code",
      "source": [
        "batch_size = 128\n",
        "train_loader = DataLoader(train_ds, batch_size, shuffle=True, num_workers=4, pin_memory=True)\n",
        "val_loader = DataLoader(val_ds, batch_size*2, num_workers=4, pin_memory=True)\n",
        "test_loader = DataLoader(test_ds, batch_size*2, num_workers=4, pin_memory=True)"
      ],
      "metadata": {
        "execution": {
          "iopub.status.busy": "2024-09-01T15:45:54.187854Z",
          "iopub.execute_input": "2024-09-01T15:45:54.188208Z",
          "iopub.status.idle": "2024-09-01T15:45:54.193867Z",
          "shell.execute_reply.started": "2024-09-01T15:45:54.188176Z",
          "shell.execute_reply": "2024-09-01T15:45:54.192729Z"
        },
        "trusted": true,
        "id": "qEIFOfcrgGzO"
      },
      "execution_count": null,
      "outputs": []
    },
    {
      "cell_type": "code",
      "source": [
        "# Visualizing some samples from the training set\n",
        "for images,_ in train_loader:\n",
        "    print('images.shape: ', images.shape)\n",
        "    print('grid.shape: ', make_grid(images, nrow=16).shape)\n",
        "    plt.axis('off')\n",
        "    plt.imshow(make_grid(images,nrow=16).permute(1,2,0))\n",
        "    break\n",
        ""
      ],
      "metadata": {
        "execution": {
          "iopub.status.busy": "2024-09-01T15:45:54.195197Z",
          "iopub.execute_input": "2024-09-01T15:45:54.195555Z",
          "iopub.status.idle": "2024-09-01T15:45:54.844241Z",
          "shell.execute_reply.started": "2024-09-01T15:45:54.195515Z",
          "shell.execute_reply": "2024-09-01T15:45:54.842827Z"
        },
        "trusted": true,
        "id": "xbbr6ftcgGzP",
        "outputId": "c801cb1c-5132-4512-d999-3683b6e36bae"
      },
      "execution_count": null,
      "outputs": [
        {
          "name": "stdout",
          "text": "images.shape:  torch.Size([128, 1, 28, 28])\ngrid.shape:  torch.Size([3, 242, 482])\n",
          "output_type": "stream"
        },
        {
          "output_type": "display_data",
          "data": {
            "text/plain": "<Figure size 640x480 with 1 Axes>",
            "image/png": "[encoded data removed]"
          },
          "metadata": {}
        }
      ]
    },
    {
      "cell_type": "code",
      "source": [
        "#Flattening images into vectors of size 784\n",
        "for images,labels in train_loader:\n",
        "    print('images.shape: ', images.shape)\n",
        "    inputs = images.reshape(-1,784)\n",
        "    print('inputs.shape: ', inputs.shape)\n",
        "    break"
      ],
      "metadata": {
        "execution": {
          "iopub.status.busy": "2024-09-01T15:45:54.846433Z",
          "iopub.execute_input": "2024-09-01T15:45:54.847903Z",
          "iopub.status.idle": "2024-09-01T15:45:55.070617Z",
          "shell.execute_reply.started": "2024-09-01T15:45:54.847845Z",
          "shell.execute_reply": "2024-09-01T15:45:55.06945Z"
        },
        "trusted": true,
        "id": "WC6iuoFEgGzQ",
        "outputId": "7ab25942-1c3a-4a58-ff4f-22e69f7347eb"
      },
      "execution_count": null,
      "outputs": [
        {
          "name": "stdout",
          "text": "images.shape:  torch.Size([128, 1, 28, 28])\ninputs.shape:  torch.Size([128, 784])\n",
          "output_type": "stream"
        }
      ]
    },
    {
      "cell_type": "markdown",
      "source": [
        "Creating A Hidden Layer"
      ],
      "metadata": {
        "id": "xK4zdCqkgGzQ"
      }
    },
    {
      "cell_type": "code",
      "source": [
        "input_size = inputs.shape[-1]\n",
        "hidden_size = 32\n",
        "layer1 = nn.Linear(input_size,hidden_size)# Input: input_size, Output: hidden_size"
      ],
      "metadata": {
        "execution": {
          "iopub.status.busy": "2024-09-01T15:45:55.072798Z",
          "iopub.execute_input": "2024-09-01T15:45:55.073193Z",
          "iopub.status.idle": "2024-09-01T15:45:55.080137Z",
          "shell.execute_reply.started": "2024-09-01T15:45:55.073155Z",
          "shell.execute_reply": "2024-09-01T15:45:55.079189Z"
        },
        "trusted": true,
        "id": "oTt9xVrtgGzR"
      },
      "execution_count": null,
      "outputs": []
    },
    {
      "cell_type": "code",
      "source": [
        "layer1_outputs = layer1(inputs)\n",
        "print('layer1_outputs.shape: ', layer1_outputs.shape)"
      ],
      "metadata": {
        "execution": {
          "iopub.status.busy": "2024-09-01T15:45:55.081568Z",
          "iopub.execute_input": "2024-09-01T15:45:55.082205Z",
          "iopub.status.idle": "2024-09-01T15:45:55.123748Z",
          "shell.execute_reply.started": "2024-09-01T15:45:55.082158Z",
          "shell.execute_reply": "2024-09-01T15:45:55.122844Z"
        },
        "trusted": true,
        "id": "-7Wf2_bYgGzR",
        "outputId": "d46f3348-7ea2-43dc-8b93-857281c02a91"
      },
      "execution_count": null,
      "outputs": [
        {
          "name": "stdout",
          "text": "layer1_outputs.shape:  torch.Size([128, 32])\n",
          "output_type": "stream"
        }
      ]
    },
    {
      "cell_type": "markdown",
      "source": [
        "Activation function"
      ],
      "metadata": {
        "id": "JvDpN3nFgGzR"
      }
    },
    {
      "cell_type": "code",
      "source": [
        "relu_outputs = F.relu(layer1_outputs)\n",
        "print('min(layer1_outputs):', torch.min(layer1_outputs).item())\n",
        "print('min(relu_outputs):', torch.min(relu_outputs).item())"
      ],
      "metadata": {
        "execution": {
          "iopub.status.busy": "2024-09-01T15:45:55.128311Z",
          "iopub.execute_input": "2024-09-01T15:45:55.128645Z",
          "iopub.status.idle": "2024-09-01T15:45:55.141932Z",
          "shell.execute_reply.started": "2024-09-01T15:45:55.128613Z",
          "shell.execute_reply": "2024-09-01T15:45:55.140985Z"
        },
        "trusted": true,
        "id": "YQ1l809ngGzS",
        "outputId": "f02f2ef6-96cd-464c-df95-50b4f7e82761"
      },
      "execution_count": null,
      "outputs": [
        {
          "name": "stdout",
          "text": "min(layer1_outputs): -0.6961444616317749\nmin(relu_outputs): 0.0\n",
          "output_type": "stream"
        }
      ]
    },
    {
      "cell_type": "markdown",
      "source": [
        "Output Layer"
      ],
      "metadata": {
        "id": "W0hLO6Z7gGzS"
      }
    },
    {
      "cell_type": "code",
      "source": [
        "output_size = 10\n",
        "layer2 = nn.Linear(hidden_size, output_size) # Input: hidden_size, Output: output_size\n",
        "layer2_outputs = layer2(relu_outputs)\n",
        "print(layer2_outputs.shape)"
      ],
      "metadata": {
        "execution": {
          "iopub.status.busy": "2024-09-01T15:45:55.143255Z",
          "iopub.execute_input": "2024-09-01T15:45:55.143548Z",
          "iopub.status.idle": "2024-09-01T15:45:55.151844Z",
          "shell.execute_reply.started": "2024-09-01T15:45:55.143515Z",
          "shell.execute_reply": "2024-09-01T15:45:55.150721Z"
        },
        "trusted": true,
        "id": "_a0J3X2kgGzS",
        "outputId": "97da0a86-7398-490b-d8cf-0b012b7a3659"
      },
      "execution_count": null,
      "outputs": [
        {
          "name": "stdout",
          "text": "torch.Size([128, 10])\n",
          "output_type": "stream"
        }
      ]
    },
    {
      "cell_type": "code",
      "source": [
        "# Computing loss\n",
        "F.cross_entropy(layer2_outputs, labels)"
      ],
      "metadata": {
        "execution": {
          "iopub.status.busy": "2024-09-01T15:45:55.153379Z",
          "iopub.execute_input": "2024-09-01T15:45:55.153668Z",
          "iopub.status.idle": "2024-09-01T15:45:55.182087Z",
          "shell.execute_reply.started": "2024-09-01T15:45:55.153637Z",
          "shell.execute_reply": "2024-09-01T15:45:55.181179Z"
        },
        "trusted": true,
        "id": "0MLnnu3zgGzS",
        "outputId": "ff0a2cb0-1dff-41c3-99ec-870aa5109bbe"
      },
      "execution_count": null,
      "outputs": [
        {
          "execution_count": 12,
          "output_type": "execute_result",
          "data": {
            "text/plain": "tensor(2.3108, grad_fn=<NllLossBackward0>)"
          },
          "metadata": {}
        }
      ]
    },
    {
      "cell_type": "markdown",
      "source": [
        "Creating Model"
      ],
      "metadata": {
        "id": "QCHBTntCgGzT"
      }
    },
    {
      "cell_type": "code",
      "source": [
        "class MnistModel(nn.Module):\n",
        "    # Class constructor\n",
        "    def __init__(self, in_size, hidden_size, out_size):\n",
        "        super().__init__()\n",
        "        # hidden layer\n",
        "        self.linear1 = nn.Linear(in_size, hidden_size)\n",
        "        # output layer\n",
        "        self.linear2 = nn.Linear(hidden_size, out_size)\n",
        "\n",
        "    # Forward pass method\n",
        "    def forward(self, xb):\n",
        "        # Flatten the image tensors\n",
        "        xb = xb.view(xb.size(0), -1)\n",
        "        # Get intermediate outputs using hidden layer\n",
        "        out = self.linear1(xb)\n",
        "        # Apply activation function\n",
        "        out = F.relu(out)\n",
        "        # Get predictions using output layer\n",
        "        out = self.linear2(out)\n",
        "        return out\n",
        "\n",
        "    # Training method\n",
        "    def training_step(self, batch):\n",
        "        images, labels = batch\n",
        "        out = self(images)                  # Generate predictions\n",
        "        loss = F.cross_entropy(out, labels) # Calculate loss\n",
        "        return loss\n",
        "\n",
        "    # Validation loss and accuracy method\n",
        "    def validation_step(self, batch):\n",
        "        images, labels = batch\n",
        "        out = self(images)                    # Generate predictions\n",
        "        loss = F.cross_entropy(out, labels)   # Calculate loss\n",
        "        acc = accuracy(out, labels)           # Calculate accuracy\n",
        "        return {'val_loss': loss, 'val_acc': acc}\n",
        "\n",
        "    # Method used for combining batch losses & accuracies into epoch losses/accuracies\n",
        "    def validation_epoch_end(self, outputs):\n",
        "        batch_losses = [x['val_loss'] for x in outputs]\n",
        "        epoch_loss = torch.stack(batch_losses).mean()   # Combine losses\n",
        "        batch_accs = [x['val_acc'] for x in outputs]\n",
        "        epoch_acc = torch.stack(batch_accs).mean()      # Combine accuracies\n",
        "        return {'val_loss': epoch_loss.item(), 'val_acc': epoch_acc.item()}\n",
        "\n",
        "    # Method used for format validation losses and accuracies\n",
        "    def epoch_end(self, epoch, result):\n",
        "        print(\"Epoch [{}], val_loss: {:.4f}, val_acc: {:.4f}\".format(epoch, result['val_loss'], result['val_acc']))\n",
        "\n",
        "    # Test loss and accuracy method\n",
        "    def test_step(self, batch):\n",
        "        images, labels = batch\n",
        "        out = self(images)                    # Generate predictions\n",
        "        loss = F.cross_entropy(out, labels)   # Calculate loss\n",
        "        acc = accuracy(out, labels)           # Calculate accuracy\n",
        "        return {'test_loss': loss, 'test_acc': acc}\n",
        "\n",
        "    # Method used for combining batch losses & accuracies into epoch losses/accuracies for the test set\n",
        "    def test_epoch_end(self, outputs):\n",
        "        batch_losses = [x['test_loss'] for x in outputs]\n",
        "        epoch_loss = torch.stack(batch_losses).mean()   # Combine losses\n",
        "        batch_accs = [x['test_acc'] for x in outputs]\n",
        "        epoch_acc = torch.stack(batch_accs).mean()      # Combine accuracies\n",
        "        return {'test_loss': epoch_loss.item(), 'test_acc': epoch_acc.item()}\n",
        "\n",
        "    # Method used for format test losses and accuracies\n",
        "    def epoch_endtest(self, epoch, result):\n",
        "        print(\"Epoch [{}], test_loss: {:.4f}, test_acc: {:.4f}\".format(epoch, result['test_loss'], result['test_acc']))"
      ],
      "metadata": {
        "execution": {
          "iopub.status.busy": "2024-09-01T15:45:55.183294Z",
          "iopub.execute_input": "2024-09-01T15:45:55.183582Z",
          "iopub.status.idle": "2024-09-01T15:45:55.199009Z",
          "shell.execute_reply.started": "2024-09-01T15:45:55.183552Z",
          "shell.execute_reply": "2024-09-01T15:45:55.197879Z"
        },
        "trusted": true,
        "id": "maTtoalTgGzT"
      },
      "execution_count": null,
      "outputs": []
    },
    {
      "cell_type": "code",
      "source": [
        "# Accuracy function\n",
        "def accuracy(outputs, labels):\n",
        "    _, preds = torch.max(outputs, dim=1)\n",
        "    return torch.tensor(torch.sum(preds == labels)/len(preds))\n"
      ],
      "metadata": {
        "execution": {
          "iopub.status.busy": "2024-09-01T15:45:55.20033Z",
          "iopub.execute_input": "2024-09-01T15:45:55.200991Z",
          "iopub.status.idle": "2024-09-01T15:45:55.209713Z",
          "shell.execute_reply.started": "2024-09-01T15:45:55.200948Z",
          "shell.execute_reply": "2024-09-01T15:45:55.208604Z"
        },
        "trusted": true,
        "id": "tzcoHn1MgGzT"
      },
      "execution_count": null,
      "outputs": []
    },
    {
      "cell_type": "code",
      "source": [
        "# Creating a model\n",
        "input_size = 784\n",
        "hidden_size = 32\n",
        "num_classes = 10"
      ],
      "metadata": {
        "execution": {
          "iopub.status.busy": "2024-09-01T15:45:55.21119Z",
          "iopub.execute_input": "2024-09-01T15:45:55.211667Z",
          "iopub.status.idle": "2024-09-01T15:45:55.217526Z",
          "shell.execute_reply.started": "2024-09-01T15:45:55.211609Z",
          "shell.execute_reply": "2024-09-01T15:45:55.216664Z"
        },
        "trusted": true,
        "id": "EE4CvEX5gGzT"
      },
      "execution_count": null,
      "outputs": []
    },
    {
      "cell_type": "code",
      "source": [
        "model = MnistModel(input_size, hidden_size,num_classes)"
      ],
      "metadata": {
        "execution": {
          "iopub.status.busy": "2024-09-01T15:45:55.21858Z",
          "iopub.execute_input": "2024-09-01T15:45:55.220496Z",
          "iopub.status.idle": "2024-09-01T15:45:55.226506Z",
          "shell.execute_reply.started": "2024-09-01T15:45:55.220455Z",
          "shell.execute_reply": "2024-09-01T15:45:55.225524Z"
        },
        "trusted": true,
        "id": "jCamXgcTgGzU"
      },
      "execution_count": null,
      "outputs": []
    },
    {
      "cell_type": "code",
      "source": [
        "for images, labels in train_loader:\n",
        "    outputs = model(images)\n",
        "    loss = F.cross_entropy(outputs, labels)\n",
        "    print('Loss:', loss.item())\n",
        "    break\n",
        "\n",
        "print('outputs.shape : ', outputs.shape)\n",
        "print('Sample outputs :\\n', outputs[:2].data)\n"
      ],
      "metadata": {
        "execution": {
          "iopub.status.busy": "2024-09-01T15:45:55.227686Z",
          "iopub.execute_input": "2024-09-01T15:45:55.228111Z",
          "iopub.status.idle": "2024-09-01T15:45:55.436719Z",
          "shell.execute_reply.started": "2024-09-01T15:45:55.228075Z",
          "shell.execute_reply": "2024-09-01T15:45:55.435659Z"
        },
        "trusted": true,
        "id": "65Q_cnylgGzU",
        "outputId": "29614026-847e-4b62-a71c-716152e254b1"
      },
      "execution_count": null,
      "outputs": [
        {
          "name": "stdout",
          "text": "Loss: 2.3111283779144287\noutputs.shape :  torch.Size([128, 10])\nSample outputs :\n tensor([[-0.0547, -0.2143, -0.1108, -0.0752, -0.0663, -0.0441,  0.0740, -0.1205,\n          0.1508,  0.0077],\n        [ 0.0096, -0.2007, -0.1938, -0.0218, -0.0348, -0.0946,  0.1004, -0.1443,\n          0.0715,  0.1087]])\n",
          "output_type": "stream"
        }
      ]
    },
    {
      "cell_type": "markdown",
      "source": [
        "Using a GPU"
      ],
      "metadata": {
        "id": "z8tRWWfagGzU"
      }
    },
    {
      "cell_type": "code",
      "source": [
        "# Checking if NVIDIA CUDA drivers are installed and if GPU is available\n",
        "torch.cuda.is_available() # True\n",
        "\n",
        "# Function to check if GPUs are available\n",
        "def get_default_device():\n",
        "    \"\"\"Pick GPU if available, else CPU\"\"\"\n",
        "    if torch.cuda.is_available():\n",
        "        return torch.device('cuda')\n",
        "    else:\n",
        "        return torch.device('cpu')\n",
        "device = get_default_device()\n",
        "print(device)\n",
        ""
      ],
      "metadata": {
        "execution": {
          "iopub.status.busy": "2024-09-01T15:45:55.438285Z",
          "iopub.execute_input": "2024-09-01T15:45:55.438607Z",
          "iopub.status.idle": "2024-09-01T15:45:55.447751Z",
          "shell.execute_reply.started": "2024-09-01T15:45:55.438575Z",
          "shell.execute_reply": "2024-09-01T15:45:55.446851Z"
        },
        "trusted": true,
        "id": "Yl1hjr6kgGzU",
        "outputId": "655f3dd7-e15b-45d6-d1b4-e594d9876e74"
      },
      "execution_count": null,
      "outputs": [
        {
          "name": "stdout",
          "text": "cuda\n",
          "output_type": "stream"
        }
      ]
    },
    {
      "cell_type": "code",
      "source": [
        "# Definining a function that can move data and model to a chosen device\n",
        "def to_device(data,device):\n",
        "    if isinstance(data, (list,tuple)):\n",
        "        return [to_device(x, device) for x in data]\n",
        "    return data.to(device, non_blocking=True)"
      ],
      "metadata": {
        "execution": {
          "iopub.status.busy": "2024-09-01T15:45:55.449116Z",
          "iopub.execute_input": "2024-09-01T15:45:55.449435Z",
          "iopub.status.idle": "2024-09-01T15:45:55.455223Z",
          "shell.execute_reply.started": "2024-09-01T15:45:55.449396Z",
          "shell.execute_reply": "2024-09-01T15:45:55.454298Z"
        },
        "trusted": true,
        "id": "0Zr9FNE6gGzU"
      },
      "execution_count": null,
      "outputs": []
    },
    {
      "cell_type": "code",
      "source": [
        "# Creating a class to wrap existing data loaders and move data batches to selected device\n",
        "class DeviceDataLoader():\n",
        "    # Class constructor\n",
        "    def __init__(self, data_loader, device):\n",
        "        self.data_loader = data_loader\n",
        "        self.device = device\n",
        "\n",
        "    # Method used to yield a batch of data after moving to a device\n",
        "    def __iter__(self):\n",
        "        for b in self.data_loader:\n",
        "            yield to_device(b, self.device)\n",
        "\n",
        "    # Creating a method to find number of batches\n",
        "    def __len__(self):\n",
        "        return len(self.data_loader)"
      ],
      "metadata": {
        "execution": {
          "iopub.status.busy": "2024-09-01T15:45:55.457389Z",
          "iopub.execute_input": "2024-09-01T15:45:55.458104Z",
          "iopub.status.idle": "2024-09-01T15:45:55.465119Z",
          "shell.execute_reply.started": "2024-09-01T15:45:55.458071Z",
          "shell.execute_reply": "2024-09-01T15:45:55.464184Z"
        },
        "trusted": true,
        "id": "0cP8yj9-gGzV"
      },
      "execution_count": null,
      "outputs": []
    },
    {
      "cell_type": "code",
      "source": [
        "# Wrapping data loaders using previous class\n",
        "train_loader = DeviceDataLoader(train_loader, device)\n",
        "val_loader = DeviceDataLoader(val_loader, device)\n",
        "test_loader = DeviceDataLoader(test_loader, device)"
      ],
      "metadata": {
        "execution": {
          "iopub.status.busy": "2024-09-01T15:45:55.466405Z",
          "iopub.execute_input": "2024-09-01T15:45:55.466815Z",
          "iopub.status.idle": "2024-09-01T15:45:55.473513Z",
          "shell.execute_reply.started": "2024-09-01T15:45:55.466757Z",
          "shell.execute_reply": "2024-09-01T15:45:55.472416Z"
        },
        "trusted": true,
        "id": "lG-9bfE8gGzV"
      },
      "execution_count": null,
      "outputs": []
    },
    {
      "cell_type": "code",
      "source": [
        "# Checking if tensors have moved to the GPU device\n",
        "for xb, yb in val_loader:\n",
        "    print('xb.device:', xb.device)\n",
        "    print('yb:', yb)\n",
        "    break\n",
        "\n",
        "# Successfully moved to GPU device"
      ],
      "metadata": {
        "execution": {
          "iopub.status.busy": "2024-09-01T15:45:55.474737Z",
          "iopub.execute_input": "2024-09-01T15:45:55.475078Z",
          "iopub.status.idle": "2024-09-01T15:45:55.705136Z",
          "shell.execute_reply.started": "2024-09-01T15:45:55.475047Z",
          "shell.execute_reply": "2024-09-01T15:45:55.703928Z"
        },
        "trusted": true,
        "id": "f2HS80zwgGzV",
        "outputId": "143477a4-c88b-471b-d2b7-39cba65e45e5"
      },
      "execution_count": null,
      "outputs": [
        {
          "name": "stdout",
          "text": "xb.device: cuda:0\nyb: tensor([4, 5, 7, 0, 4, 3, 2, 6, 9, 8, 4, 9, 8, 0, 9, 4, 4, 2, 3, 3, 3, 7, 4, 1,\n        4, 4, 9, 4, 8, 6, 6, 3, 4, 4, 8, 8, 5, 2, 8, 5, 6, 9, 0, 2, 3, 0, 6, 6,\n        2, 1, 3, 4, 4, 3, 5, 4, 1, 6, 1, 1, 0, 6, 6, 8, 2, 5, 2, 3, 9, 3, 8, 1,\n        9, 5, 6, 4, 1, 3, 3, 0, 6, 6, 2, 3, 7, 7, 2, 6, 8, 2, 6, 6, 8, 3, 5, 1,\n        6, 7, 6, 3, 2, 9, 6, 8, 2, 6, 2, 4, 9, 0, 4, 3, 1, 7, 7, 0, 3, 8, 6, 6,\n        1, 0, 4, 7, 1, 3, 1, 9, 6, 3, 2, 8, 3, 3, 6, 2, 7, 8, 5, 3, 1, 4, 1, 0,\n        8, 5, 5, 0, 0, 5, 9, 7, 5, 4, 0, 3, 2, 9, 1, 4, 0, 6, 9, 8, 3, 8, 5, 7,\n        3, 3, 9, 5, 2, 7, 9, 2, 8, 5, 6, 6, 1, 6, 4, 3, 8, 8, 4, 0, 2, 6, 8, 9,\n        7, 3, 7, 9, 5, 0, 4, 0, 5, 2, 6, 8, 0, 2, 2, 0, 1, 2, 8, 2, 6, 6, 8, 4,\n        7, 5, 2, 3, 6, 1, 4, 6, 2, 5, 7, 6, 7, 5, 7, 2, 4, 6, 7, 8, 1, 0, 5, 9,\n        2, 3, 1, 3, 6, 0, 7, 7, 5, 3, 3, 7, 9, 2, 8, 8], device='cuda:0')\n",
          "output_type": "stream"
        }
      ]
    },
    {
      "cell_type": "markdown",
      "source": [
        "Training the Model"
      ],
      "metadata": {
        "id": "VS1cCTCygGzV"
      }
    },
    {
      "cell_type": "code",
      "source": [
        "def evaluate(model, val_loader):\n",
        "    \"\"\"Evaluate the model's performance on the validation set\"\"\"\n",
        "    outputs = [model.validation_step(batch) for batch in val_loader]\n",
        "    return model.validation_epoch_end(outputs)\n",
        "\n",
        "def fit(epochs, lr, model, train_loader, val_loader,opt_func=torch.optim.SGD):\n",
        "    \"\"\"Train the model using gradient descent\"\"\"\n",
        "    history = []\n",
        "    optimizer = opt_func(model.parameters(), lr)\n",
        "    for epoch in range(epochs):\n",
        "        # Training Phase\n",
        "        for batch in train_loader:\n",
        "            loss = model.training_step(batch)\n",
        "            loss.backward()\n",
        "            optimizer.step()\n",
        "            optimizer.zero_grad()\n",
        "        # Validation phase\n",
        "        result = evaluate(model, val_loader)\n",
        "        model.epoch_end(epoch, result)\n",
        "        history.append(result)\n",
        "    return history\n",
        ""
      ],
      "metadata": {
        "execution": {
          "iopub.status.busy": "2024-09-01T15:45:55.706604Z",
          "iopub.execute_input": "2024-09-01T15:45:55.706967Z",
          "iopub.status.idle": "2024-09-01T15:45:55.715167Z",
          "shell.execute_reply.started": "2024-09-01T15:45:55.706932Z",
          "shell.execute_reply": "2024-09-01T15:45:55.714069Z"
        },
        "trusted": true,
        "id": "BKI2KNoUgGzV"
      },
      "execution_count": null,
      "outputs": []
    },
    {
      "cell_type": "code",
      "source": [
        "# Model (on GPU)\n",
        "model_gpu = MnistModel(input_size, hidden_size=hidden_size, out_size=num_classes)\n",
        "to_device(model_gpu, device)"
      ],
      "metadata": {
        "execution": {
          "iopub.status.busy": "2024-09-01T15:45:55.71657Z",
          "iopub.execute_input": "2024-09-01T15:45:55.717147Z",
          "iopub.status.idle": "2024-09-01T15:45:55.726999Z",
          "shell.execute_reply.started": "2024-09-01T15:45:55.717105Z",
          "shell.execute_reply": "2024-09-01T15:45:55.726027Z"
        },
        "trusted": true,
        "id": "Xd9a8jKogGzW",
        "outputId": "b3f76f97-fe25-4021-9225-0ee8827fa400"
      },
      "execution_count": null,
      "outputs": [
        {
          "execution_count": 24,
          "output_type": "execute_result",
          "data": {
            "text/plain": "MnistModel(\n  (linear1): Linear(in_features=784, out_features=32, bias=True)\n  (linear2): Linear(in_features=32, out_features=10, bias=True)\n)"
          },
          "metadata": {}
        }
      ]
    },
    {
      "cell_type": "code",
      "source": [
        "history1 = fit(5, 0.5, model_gpu, train_loader, val_loader)"
      ],
      "metadata": {
        "execution": {
          "iopub.status.busy": "2024-09-01T15:45:55.728193Z",
          "iopub.execute_input": "2024-09-01T15:45:55.728999Z",
          "iopub.status.idle": "2024-09-01T15:46:14.340603Z",
          "shell.execute_reply.started": "2024-09-01T15:45:55.728955Z",
          "shell.execute_reply": "2024-09-01T15:46:14.339417Z"
        },
        "trusted": true,
        "id": "Pt9F1ykOgGzW",
        "outputId": "46651938-30df-44ba-dbd5-fffb7deafe88"
      },
      "execution_count": null,
      "outputs": [
        {
          "name": "stderr",
          "text": "/tmp/ipykernel_36/55389227.py:4: UserWarning: To copy construct from a tensor, it is recommended to use sourceTensor.clone().detach() or sourceTensor.clone().detach().requires_grad_(True), rather than torch.tensor(sourceTensor).\n  return torch.tensor(torch.sum(preds == labels)/len(preds))\n",
          "output_type": "stream"
        },
        {
          "name": "stdout",
          "text": "Epoch [0], val_loss: 0.2666, val_acc: 0.9230\nEpoch [1], val_loss: 0.2423, val_acc: 0.9285\nEpoch [2], val_loss: 0.1846, val_acc: 0.9448\nEpoch [3], val_loss: 0.1635, val_acc: 0.9525\nEpoch [4], val_loss: 0.1666, val_acc: 0.9526\n",
          "output_type": "stream"
        }
      ]
    },
    {
      "cell_type": "code",
      "source": [
        "history2 = fit(5, 0.5, model_gpu, train_loader, val_loader)"
      ],
      "metadata": {
        "execution": {
          "iopub.status.busy": "2024-09-01T15:46:14.342457Z",
          "iopub.execute_input": "2024-09-01T15:46:14.34291Z",
          "iopub.status.idle": "2024-09-01T15:46:32.00759Z",
          "shell.execute_reply.started": "2024-09-01T15:46:14.342864Z",
          "shell.execute_reply": "2024-09-01T15:46:32.006467Z"
        },
        "trusted": true,
        "id": "lPFWRn8AgGzW",
        "outputId": "77b93fee-9d2b-4891-a4f7-66ef4f708edc"
      },
      "execution_count": null,
      "outputs": [
        {
          "name": "stderr",
          "text": "/tmp/ipykernel_36/55389227.py:4: UserWarning: To copy construct from a tensor, it is recommended to use sourceTensor.clone().detach() or sourceTensor.clone().detach().requires_grad_(True), rather than torch.tensor(sourceTensor).\n  return torch.tensor(torch.sum(preds == labels)/len(preds))\n",
          "output_type": "stream"
        },
        {
          "name": "stdout",
          "text": "Epoch [0], val_loss: 0.1494, val_acc: 0.9582\nEpoch [1], val_loss: 0.1365, val_acc: 0.9605\nEpoch [2], val_loss: 0.1395, val_acc: 0.9610\nEpoch [3], val_loss: 0.1725, val_acc: 0.9496\nEpoch [4], val_loss: 0.1478, val_acc: 0.9578\n",
          "output_type": "stream"
        }
      ]
    },
    {
      "cell_type": "code",
      "source": [
        "history3 = fit(5, 0.5, model_gpu, train_loader, val_loader)"
      ],
      "metadata": {
        "execution": {
          "iopub.status.busy": "2024-09-01T15:46:32.009447Z",
          "iopub.execute_input": "2024-09-01T15:46:32.00989Z",
          "iopub.status.idle": "2024-09-01T15:46:50.78597Z",
          "shell.execute_reply.started": "2024-09-01T15:46:32.009853Z",
          "shell.execute_reply": "2024-09-01T15:46:50.784741Z"
        },
        "trusted": true,
        "id": "FNvvRru0gGzX",
        "outputId": "28d942f0-cd42-4e45-d06a-73e61ee6c8d9"
      },
      "execution_count": null,
      "outputs": [
        {
          "name": "stderr",
          "text": "/tmp/ipykernel_36/55389227.py:4: UserWarning: To copy construct from a tensor, it is recommended to use sourceTensor.clone().detach() or sourceTensor.clone().detach().requires_grad_(True), rather than torch.tensor(sourceTensor).\n  return torch.tensor(torch.sum(preds == labels)/len(preds))\n",
          "output_type": "stream"
        },
        {
          "name": "stdout",
          "text": "Epoch [0], val_loss: 0.1591, val_acc: 0.9549\nEpoch [1], val_loss: 0.1430, val_acc: 0.9590\nEpoch [2], val_loss: 0.1389, val_acc: 0.9611\nEpoch [3], val_loss: 0.1357, val_acc: 0.9630\nEpoch [4], val_loss: 0.1601, val_acc: 0.9549\n",
          "output_type": "stream"
        }
      ]
    },
    {
      "cell_type": "code",
      "source": [
        "history4 = fit(5, 0.1, model_gpu, train_loader, val_loader)"
      ],
      "metadata": {
        "execution": {
          "iopub.status.busy": "2024-09-01T15:46:50.792851Z",
          "iopub.execute_input": "2024-09-01T15:46:50.793596Z",
          "iopub.status.idle": "2024-09-01T15:47:08.602189Z",
          "shell.execute_reply.started": "2024-09-01T15:46:50.793558Z",
          "shell.execute_reply": "2024-09-01T15:47:08.601043Z"
        },
        "trusted": true,
        "id": "YivpGgfpgGzY",
        "outputId": "0474ddc2-0bb2-41ab-b940-a80f20b83d89"
      },
      "execution_count": null,
      "outputs": [
        {
          "name": "stderr",
          "text": "/tmp/ipykernel_36/55389227.py:4: UserWarning: To copy construct from a tensor, it is recommended to use sourceTensor.clone().detach() or sourceTensor.clone().detach().requires_grad_(True), rather than torch.tensor(sourceTensor).\n  return torch.tensor(torch.sum(preds == labels)/len(preds))\n",
          "output_type": "stream"
        },
        {
          "name": "stdout",
          "text": "Epoch [0], val_loss: 0.1235, val_acc: 0.9665\nEpoch [1], val_loss: 0.1218, val_acc: 0.9675\nEpoch [2], val_loss: 0.1232, val_acc: 0.9669\nEpoch [3], val_loss: 0.1245, val_acc: 0.9661\nEpoch [4], val_loss: 0.1227, val_acc: 0.9672\n",
          "output_type": "stream"
        }
      ]
    },
    {
      "cell_type": "code",
      "source": [
        "history5 = fit(5, 0.1, model_gpu, train_loader, val_loader)"
      ],
      "metadata": {
        "execution": {
          "iopub.status.busy": "2024-09-01T15:47:08.603716Z",
          "iopub.execute_input": "2024-09-01T15:47:08.604099Z",
          "iopub.status.idle": "2024-09-01T15:47:26.926623Z",
          "shell.execute_reply.started": "2024-09-01T15:47:08.604063Z",
          "shell.execute_reply": "2024-09-01T15:47:26.925248Z"
        },
        "trusted": true,
        "id": "kX0-Ed9WgGzZ",
        "outputId": "f032667e-597b-47d7-da79-f83f8da39a22"
      },
      "execution_count": null,
      "outputs": [
        {
          "name": "stderr",
          "text": "/tmp/ipykernel_36/55389227.py:4: UserWarning: To copy construct from a tensor, it is recommended to use sourceTensor.clone().detach() or sourceTensor.clone().detach().requires_grad_(True), rather than torch.tensor(sourceTensor).\n  return torch.tensor(torch.sum(preds == labels)/len(preds))\n",
          "output_type": "stream"
        },
        {
          "name": "stdout",
          "text": "Epoch [0], val_loss: 0.1248, val_acc: 0.9674\nEpoch [1], val_loss: 0.1231, val_acc: 0.9674\nEpoch [2], val_loss: 0.1240, val_acc: 0.9672\nEpoch [3], val_loss: 0.1243, val_acc: 0.9673\nEpoch [4], val_loss: 0.1244, val_acc: 0.9667\n",
          "output_type": "stream"
        }
      ]
    },
    {
      "cell_type": "code",
      "source": [
        "history = history1+history2+history3+history4\n",
        "accuracies = [result['val_acc'] for result in history]\n",
        "plt.plot(accuracies, '-x')\n",
        "plt.xlabel('epoch')\n",
        "plt.ylabel('accuracy')\n",
        "plt.title('Accuracy Compared To # of Epochs')"
      ],
      "metadata": {
        "execution": {
          "iopub.status.busy": "2024-09-01T15:47:26.928312Z",
          "iopub.execute_input": "2024-09-01T15:47:26.928695Z",
          "iopub.status.idle": "2024-09-01T15:47:27.242569Z",
          "shell.execute_reply.started": "2024-09-01T15:47:26.928639Z",
          "shell.execute_reply": "2024-09-01T15:47:27.241606Z"
        },
        "trusted": true,
        "id": "HcGazi3igGza",
        "outputId": "4fbc28a4-65d1-4e44-daa9-37f26691f47b"
      },
      "execution_count": null,
      "outputs": [
        {
          "execution_count": 30,
          "output_type": "execute_result",
          "data": {
            "text/plain": "Text(0.5, 1.0, 'Accuracy Compared To # of Epochs')"
          },
          "metadata": {}
        },
        {
          "output_type": "display_data",
          "data": {
            "text/plain": "<Figure size 640x480 with 1 Axes>",
            "image/png": "[encoded data removed]"
          },
          "metadata": {}
        }
      ]
    },
    {
      "cell_type": "markdown",
      "source": [
        "Hyperparameter Optimization"
      ],
      "metadata": {
        "id": "oube_SFOgGzm"
      }
    },
    {
      "cell_type": "code",
      "source": [
        "#Defining objective function\n",
        "def objective(trial):\n",
        "\n",
        "    # Hyperparameters to tune\n",
        "    learning_rate = trial.suggest_loguniform('lr', 1e-1, 1e-0)\n",
        "\n",
        "    # Creating the model\n",
        "    model = MnistModel(input_size, hidden_size=hidden_size, out_size=num_classes)\n",
        "    to_device(model, device)\n",
        "\n",
        "    # Optimizer\n",
        "    optimizer = torch.optim.SGD(model.parameters(), lr=learning_rate)\n",
        "\n",
        "    # Train and val loaders\n",
        "    train_loader = DataLoader(train_ds, batch_size=128, shuffle=True)\n",
        "    val_loader = DataLoader(val_ds, batch_size=256)\n",
        "    train_loader = DeviceDataLoader(train_loader, device)\n",
        "    val_loader = DeviceDataLoader(val_loader, device)\n",
        "\n",
        "\n",
        "    num_epochs = 5\n",
        "    for epoch in range(num_epochs):\n",
        "        for batch in train_loader:\n",
        "\n",
        "             # Training Loop\n",
        "            loss = model.training_step(batch)\n",
        "            loss.backward()\n",
        "            optimizer.step()\n",
        "            optimizer.zero_grad()\n",
        "\n",
        "        # Validation Stage\n",
        "        result = evaluate(model, val_loader)\n",
        "\n",
        "    return result['val_acc']\n",
        "\n",
        ""
      ],
      "metadata": {
        "execution": {
          "iopub.status.busy": "2024-09-01T16:01:56.480922Z",
          "iopub.execute_input": "2024-09-01T16:01:56.481834Z",
          "iopub.status.idle": "2024-09-01T16:01:56.490108Z",
          "shell.execute_reply.started": "2024-09-01T16:01:56.481795Z",
          "shell.execute_reply": "2024-09-01T16:01:56.489073Z"
        },
        "trusted": true,
        "id": "TmjnE4DTgGzm"
      },
      "execution_count": null,
      "outputs": []
    },
    {
      "cell_type": "code",
      "source": [
        "# Create a study object\n",
        "study = optuna.create_study(direction='maximize')\n",
        "study.optimize(objective, n_trials=10)  # Number of trials\n",
        "\n",
        "# Get the best trial\n",
        "best_trial = study.best_trial\n",
        "\n",
        "# Print the best hyperparameters, best accuracy, and trial number\n",
        "print(f\"Best hyperparameters: {best_trial.params}\")\n",
        "print(f\"Best test accuracy: {best_trial.value:.4f}\")\n",
        "print(f\"Trial number with best test accuracy: {best_trial.number}\")"
      ],
      "metadata": {
        "execution": {
          "iopub.status.busy": "2024-09-01T16:01:59.779977Z",
          "iopub.execute_input": "2024-09-01T16:01:59.780713Z",
          "iopub.status.idle": "2024-09-01T16:07:14.491005Z",
          "shell.execute_reply.started": "2024-09-01T16:01:59.780676Z",
          "shell.execute_reply": "2024-09-01T16:07:14.490013Z"
        },
        "trusted": true,
        "id": "AaVceihbgGzn",
        "outputId": "915e6097-9bd4-4023-a7ed-effede8dcd90"
      },
      "execution_count": null,
      "outputs": [
        {
          "name": "stderr",
          "text": "[I 2024-09-01 16:01:59,783] A new study created in memory with name: no-name-154dbd09-6a1d-4eb7-b2c5-6ad3aaceecd0\n/tmp/ipykernel_36/521537397.py:5: FutureWarning: suggest_loguniform has been deprecated in v3.0.0. This feature will be removed in v6.0.0. See https://github.com/optuna/optuna/releases/tag/v3.0.0. Use suggest_float(..., log=True) instead.\n  learning_rate = trial.suggest_loguniform('lr', 1e-1, 1e-0)\n/tmp/ipykernel_36/55389227.py:4: UserWarning: To copy construct from a tensor, it is recommended to use sourceTensor.clone().detach() or sourceTensor.clone().detach().requires_grad_(True), rather than torch.tensor(sourceTensor).\n  return torch.tensor(torch.sum(preds == labels)/len(preds))\n[I 2024-09-01 16:02:31,354] Trial 0 finished with value: 0.9400390982627869 and parameters: {'lr': 0.8739981112679784}. Best is trial 0 with value: 0.9400390982627869.\n[I 2024-09-01 16:03:02,864] Trial 1 finished with value: 0.954882800579071 and parameters: {'lr': 0.8313930555502905}. Best is trial 1 with value: 0.954882800579071.\n[I 2024-09-01 16:03:34,323] Trial 2 finished with value: 0.9560546875 and parameters: {'lr': 0.5840831129446328}. Best is trial 2 with value: 0.9560546875.\n[I 2024-09-01 16:04:05,761] Trial 3 finished with value: 0.94677734375 and parameters: {'lr': 0.29100466686713217}. Best is trial 2 with value: 0.9560546875.\n[I 2024-09-01 16:04:37,155] Trial 4 finished with value: 0.9384765625 and parameters: {'lr': 0.13377977372285657}. Best is trial 2 with value: 0.9560546875.\n[I 2024-09-01 16:05:08,710] Trial 5 finished with value: 0.93798828125 and parameters: {'lr': 0.24162487869317437}. Best is trial 2 with value: 0.9560546875.\n[I 2024-09-01 16:05:40,135] Trial 6 finished with value: 0.9393554925918579 and parameters: {'lr': 0.14782928935745868}. Best is trial 2 with value: 0.9560546875.\n[I 2024-09-01 16:06:11,573] Trial 7 finished with value: 0.9541015625 and parameters: {'lr': 0.6750432328033674}. Best is trial 2 with value: 0.9560546875.\n[I 2024-09-01 16:06:42,956] Trial 8 finished with value: 0.9502930045127869 and parameters: {'lr': 0.30221468485608627}. Best is trial 2 with value: 0.9560546875.\n[I 2024-09-01 16:07:14,486] Trial 9 finished with value: 0.939160168170929 and parameters: {'lr': 0.16571688675684643}. Best is trial 2 with value: 0.9560546875.\n",
          "output_type": "stream"
        },
        {
          "name": "stdout",
          "text": "Best hyperparameters: {'lr': 0.5840831129446328}\nBest test accuracy: 0.9561\nTrial number with best test accuracy: 2\n",
          "output_type": "stream"
        }
      ]
    },
    {
      "cell_type": "code",
      "source": [
        "{'lr': 0.0178878518656460}\n",
        "{'lr': 0.09833396206168134}\n",
        "{'lr': 0.5082839076857731}\n",
        "{'lr': 0.5840831129446328}"
      ],
      "metadata": {
        "execution": {
          "iopub.status.busy": "2024-09-01T15:52:42.235413Z",
          "iopub.execute_input": "2024-09-01T15:52:42.235725Z",
          "iopub.status.idle": "2024-09-01T15:52:42.242486Z",
          "shell.execute_reply.started": "2024-09-01T15:52:42.235691Z",
          "shell.execute_reply": "2024-09-01T15:52:42.241531Z"
        },
        "trusted": true,
        "id": "8linxhmEgGzn",
        "outputId": "d1dc666d-9960-4f69-d0be-2edea4c768f0"
      },
      "execution_count": null,
      "outputs": [
        {
          "execution_count": 33,
          "output_type": "execute_result",
          "data": {
            "text/plain": "{'lr': 0.5082839076857731}"
          },
          "metadata": {}
        }
      ]
    },
    {
      "cell_type": "code",
      "source": [
        "m1 = MnistModel(input_size, hidden_size=hidden_size, out_size=num_classes)\n",
        "to_device(m1, device)"
      ],
      "metadata": {
        "execution": {
          "iopub.status.busy": "2024-09-01T15:52:42.243849Z",
          "iopub.execute_input": "2024-09-01T15:52:42.244157Z",
          "iopub.status.idle": "2024-09-01T15:52:42.253528Z",
          "shell.execute_reply.started": "2024-09-01T15:52:42.244125Z",
          "shell.execute_reply": "2024-09-01T15:52:42.252633Z"
        },
        "trusted": true,
        "id": "MX6B_NBwgGzo",
        "outputId": "f5cc2942-bce2-42f6-bcab-2e461235eb08"
      },
      "execution_count": null,
      "outputs": [
        {
          "execution_count": 34,
          "output_type": "execute_result",
          "data": {
            "text/plain": "MnistModel(\n  (linear1): Linear(in_features=784, out_features=32, bias=True)\n  (linear2): Linear(in_features=32, out_features=10, bias=True)\n)"
          },
          "metadata": {}
        }
      ]
    },
    {
      "cell_type": "code",
      "source": [
        "m1_history1 = fit(5,0.0178878518656460,m1,train_loader,val_loader)"
      ],
      "metadata": {
        "execution": {
          "iopub.status.busy": "2024-09-01T15:52:42.254674Z",
          "iopub.execute_input": "2024-09-01T15:52:42.255004Z",
          "iopub.status.idle": "2024-09-01T15:52:59.860629Z",
          "shell.execute_reply.started": "2024-09-01T15:52:42.254973Z",
          "shell.execute_reply": "2024-09-01T15:52:59.859536Z"
        },
        "trusted": true,
        "id": "v4urBwWHgGzo",
        "outputId": "1a4fc10b-4816-45b1-ea41-4736f57932a6"
      },
      "execution_count": null,
      "outputs": [
        {
          "name": "stderr",
          "text": "/tmp/ipykernel_36/55389227.py:4: UserWarning: To copy construct from a tensor, it is recommended to use sourceTensor.clone().detach() or sourceTensor.clone().detach().requires_grad_(True), rather than torch.tensor(sourceTensor).\n  return torch.tensor(torch.sum(preds == labels)/len(preds))\n",
          "output_type": "stream"
        },
        {
          "name": "stdout",
          "text": "Epoch [0], val_loss: 0.8579, val_acc: 0.8234\nEpoch [1], val_loss: 0.5437, val_acc: 0.8651\nEpoch [2], val_loss: 0.4527, val_acc: 0.8800\nEpoch [3], val_loss: 0.4087, val_acc: 0.8880\nEpoch [4], val_loss: 0.3830, val_acc: 0.8936\n",
          "output_type": "stream"
        }
      ]
    },
    {
      "cell_type": "code",
      "source": [
        "m1_history2 = fit(5,0.0178878518656460,m1,train_loader,val_loader)"
      ],
      "metadata": {
        "execution": {
          "iopub.status.busy": "2024-09-01T15:52:59.862125Z",
          "iopub.execute_input": "2024-09-01T15:52:59.862451Z",
          "iopub.status.idle": "2024-09-01T15:53:17.937237Z",
          "shell.execute_reply.started": "2024-09-01T15:52:59.862416Z",
          "shell.execute_reply": "2024-09-01T15:53:17.936014Z"
        },
        "trusted": true,
        "id": "whm0D5sQgGzp",
        "outputId": "4bff0587-05e1-4f15-c65f-3f4f4618b1bc"
      },
      "execution_count": null,
      "outputs": [
        {
          "name": "stderr",
          "text": "/tmp/ipykernel_36/55389227.py:4: UserWarning: To copy construct from a tensor, it is recommended to use sourceTensor.clone().detach() or sourceTensor.clone().detach().requires_grad_(True), rather than torch.tensor(sourceTensor).\n  return torch.tensor(torch.sum(preds == labels)/len(preds))\n",
          "output_type": "stream"
        },
        {
          "name": "stdout",
          "text": "Epoch [0], val_loss: 0.3669, val_acc: 0.8981\nEpoch [1], val_loss: 0.3519, val_acc: 0.9007\nEpoch [2], val_loss: 0.3408, val_acc: 0.9048\nEpoch [3], val_loss: 0.3335, val_acc: 0.9055\nEpoch [4], val_loss: 0.3252, val_acc: 0.9084\n",
          "output_type": "stream"
        }
      ]
    },
    {
      "cell_type": "code",
      "source": [
        "m1_history3 = fit(5,0.0178878518656460,m1,train_loader,val_loader)"
      ],
      "metadata": {
        "execution": {
          "iopub.status.busy": "2024-09-01T15:53:17.939185Z",
          "iopub.execute_input": "2024-09-01T15:53:17.939992Z",
          "iopub.status.idle": "2024-09-01T15:53:36.756926Z",
          "shell.execute_reply.started": "2024-09-01T15:53:17.939941Z",
          "shell.execute_reply": "2024-09-01T15:53:36.755812Z"
        },
        "trusted": true,
        "id": "nlREcqZkgGzq",
        "outputId": "d8bca88c-8850-4b38-d750-284741377c06"
      },
      "execution_count": null,
      "outputs": [
        {
          "name": "stderr",
          "text": "/tmp/ipykernel_36/55389227.py:4: UserWarning: To copy construct from a tensor, it is recommended to use sourceTensor.clone().detach() or sourceTensor.clone().detach().requires_grad_(True), rather than torch.tensor(sourceTensor).\n  return torch.tensor(torch.sum(preds == labels)/len(preds))\n",
          "output_type": "stream"
        },
        {
          "name": "stdout",
          "text": "Epoch [0], val_loss: 0.3152, val_acc: 0.9093\nEpoch [1], val_loss: 0.3100, val_acc: 0.9112\nEpoch [2], val_loss: 0.3028, val_acc: 0.9141\nEpoch [3], val_loss: 0.2970, val_acc: 0.9135\nEpoch [4], val_loss: 0.2913, val_acc: 0.9156\n",
          "output_type": "stream"
        }
      ]
    },
    {
      "cell_type": "code",
      "source": [
        "m1_history4 = fit(5,0.0178878518656460,m1,train_loader,val_loader)"
      ],
      "metadata": {
        "execution": {
          "iopub.status.busy": "2024-09-01T15:53:36.758736Z",
          "iopub.execute_input": "2024-09-01T15:53:36.759112Z",
          "iopub.status.idle": "2024-09-01T15:53:54.402734Z",
          "shell.execute_reply.started": "2024-09-01T15:53:36.759078Z",
          "shell.execute_reply": "2024-09-01T15:53:54.401675Z"
        },
        "trusted": true,
        "id": "zQmIO9lzgGzq",
        "outputId": "4c01b059-01ff-4f5b-92e9-434cbcf21618"
      },
      "execution_count": null,
      "outputs": [
        {
          "name": "stderr",
          "text": "/tmp/ipykernel_36/55389227.py:4: UserWarning: To copy construct from a tensor, it is recommended to use sourceTensor.clone().detach() or sourceTensor.clone().detach().requires_grad_(True), rather than torch.tensor(sourceTensor).\n  return torch.tensor(torch.sum(preds == labels)/len(preds))\n",
          "output_type": "stream"
        },
        {
          "name": "stdout",
          "text": "Epoch [0], val_loss: 0.2865, val_acc: 0.9172\nEpoch [1], val_loss: 0.2802, val_acc: 0.9194\nEpoch [2], val_loss: 0.2765, val_acc: 0.9205\nEpoch [3], val_loss: 0.2723, val_acc: 0.9208\nEpoch [4], val_loss: 0.2675, val_acc: 0.9230\n",
          "output_type": "stream"
        }
      ]
    },
    {
      "cell_type": "code",
      "source": [
        "m2 = MnistModel(input_size, hidden_size=hidden_size, out_size=num_classes)\n",
        "to_device(m2, device)"
      ],
      "metadata": {
        "execution": {
          "iopub.status.busy": "2024-09-01T15:53:54.404486Z",
          "iopub.execute_input": "2024-09-01T15:53:54.404859Z",
          "iopub.status.idle": "2024-09-01T15:53:54.413171Z",
          "shell.execute_reply.started": "2024-09-01T15:53:54.404822Z",
          "shell.execute_reply": "2024-09-01T15:53:54.412322Z"
        },
        "trusted": true,
        "id": "rfuFIBrYgGzr",
        "outputId": "cf8307ef-c9b1-41e4-d3b3-062544b7444b"
      },
      "execution_count": null,
      "outputs": [
        {
          "execution_count": 39,
          "output_type": "execute_result",
          "data": {
            "text/plain": "MnistModel(\n  (linear1): Linear(in_features=784, out_features=32, bias=True)\n  (linear2): Linear(in_features=32, out_features=10, bias=True)\n)"
          },
          "metadata": {}
        }
      ]
    },
    {
      "cell_type": "code",
      "source": [
        "m2_history1 = fit(5,0.09833396206168134,m2,train_loader,val_loader)"
      ],
      "metadata": {
        "execution": {
          "iopub.status.busy": "2024-09-01T15:53:54.414301Z",
          "iopub.execute_input": "2024-09-01T15:53:54.414692Z",
          "iopub.status.idle": "2024-09-01T15:54:12.338233Z",
          "shell.execute_reply.started": "2024-09-01T15:53:54.414649Z",
          "shell.execute_reply": "2024-09-01T15:54:12.337027Z"
        },
        "trusted": true,
        "id": "8WK0tA9rgGzr",
        "outputId": "072d0789-eef0-4a3d-be61-49b96a649c6e"
      },
      "execution_count": null,
      "outputs": [
        {
          "name": "stderr",
          "text": "/tmp/ipykernel_36/55389227.py:4: UserWarning: To copy construct from a tensor, it is recommended to use sourceTensor.clone().detach() or sourceTensor.clone().detach().requires_grad_(True), rather than torch.tensor(sourceTensor).\n  return torch.tensor(torch.sum(preds == labels)/len(preds))\n",
          "output_type": "stream"
        },
        {
          "name": "stdout",
          "text": "Epoch [0], val_loss: 0.3886, val_acc: 0.8895\nEpoch [1], val_loss: 0.3388, val_acc: 0.9035\nEpoch [2], val_loss: 0.3000, val_acc: 0.9146\nEpoch [3], val_loss: 0.2736, val_acc: 0.9218\nEpoch [4], val_loss: 0.2544, val_acc: 0.9273\n",
          "output_type": "stream"
        }
      ]
    },
    {
      "cell_type": "code",
      "source": [
        "m2_history2 = fit(5,0.09833396206168134,m2,train_loader,val_loader)"
      ],
      "metadata": {
        "execution": {
          "iopub.status.busy": "2024-09-01T15:54:12.340056Z",
          "iopub.execute_input": "2024-09-01T15:54:12.340442Z",
          "iopub.status.idle": "2024-09-01T15:54:30.080454Z",
          "shell.execute_reply.started": "2024-09-01T15:54:12.340402Z",
          "shell.execute_reply": "2024-09-01T15:54:30.079204Z"
        },
        "trusted": true,
        "id": "hVFszZVagGzs",
        "outputId": "5d2459ca-9278-48a8-ea7f-57f5e24cd842"
      },
      "execution_count": null,
      "outputs": [
        {
          "name": "stderr",
          "text": "/tmp/ipykernel_36/55389227.py:4: UserWarning: To copy construct from a tensor, it is recommended to use sourceTensor.clone().detach() or sourceTensor.clone().detach().requires_grad_(True), rather than torch.tensor(sourceTensor).\n  return torch.tensor(torch.sum(preds == labels)/len(preds))\n",
          "output_type": "stream"
        },
        {
          "name": "stdout",
          "text": "Epoch [0], val_loss: 0.2373, val_acc: 0.9311\nEpoch [1], val_loss: 0.2255, val_acc: 0.9330\nEpoch [2], val_loss: 0.2093, val_acc: 0.9408\nEpoch [3], val_loss: 0.2045, val_acc: 0.9425\nEpoch [4], val_loss: 0.1956, val_acc: 0.9436\n",
          "output_type": "stream"
        }
      ]
    },
    {
      "cell_type": "code",
      "source": [
        "m2_history3 = fit(5,0.09833396206168134,m2,train_loader,val_loader)"
      ],
      "metadata": {
        "execution": {
          "iopub.status.busy": "2024-09-01T15:54:30.082602Z",
          "iopub.execute_input": "2024-09-01T15:54:30.083067Z",
          "iopub.status.idle": "2024-09-01T15:54:48.263612Z",
          "shell.execute_reply.started": "2024-09-01T15:54:30.083015Z",
          "shell.execute_reply": "2024-09-01T15:54:48.262487Z"
        },
        "trusted": true,
        "id": "zay5s-l2gGzs",
        "outputId": "8a9b9647-f186-4656-ab09-06680e52f0b8"
      },
      "execution_count": null,
      "outputs": [
        {
          "name": "stderr",
          "text": "/tmp/ipykernel_36/55389227.py:4: UserWarning: To copy construct from a tensor, it is recommended to use sourceTensor.clone().detach() or sourceTensor.clone().detach().requires_grad_(True), rather than torch.tensor(sourceTensor).\n  return torch.tensor(torch.sum(preds == labels)/len(preds))\n",
          "output_type": "stream"
        },
        {
          "name": "stdout",
          "text": "Epoch [0], val_loss: 0.1875, val_acc: 0.9471\nEpoch [1], val_loss: 0.1790, val_acc: 0.9489\nEpoch [2], val_loss: 0.1729, val_acc: 0.9519\nEpoch [3], val_loss: 0.1691, val_acc: 0.9516\nEpoch [4], val_loss: 0.1657, val_acc: 0.9535\n",
          "output_type": "stream"
        }
      ]
    },
    {
      "cell_type": "code",
      "source": [
        "m2_history4 = fit(5,0.09833396206168134,m2,train_loader,val_loader)"
      ],
      "metadata": {
        "execution": {
          "iopub.status.busy": "2024-09-01T15:54:48.265366Z",
          "iopub.execute_input": "2024-09-01T15:54:48.266287Z",
          "iopub.status.idle": "2024-09-01T15:55:05.942626Z",
          "shell.execute_reply.started": "2024-09-01T15:54:48.266238Z",
          "shell.execute_reply": "2024-09-01T15:55:05.941467Z"
        },
        "trusted": true,
        "id": "K2zL-aPxgGzs",
        "outputId": "117ec72e-8a31-45b3-aeca-711157fca62c"
      },
      "execution_count": null,
      "outputs": [
        {
          "name": "stderr",
          "text": "/tmp/ipykernel_36/55389227.py:4: UserWarning: To copy construct from a tensor, it is recommended to use sourceTensor.clone().detach() or sourceTensor.clone().detach().requires_grad_(True), rather than torch.tensor(sourceTensor).\n  return torch.tensor(torch.sum(preds == labels)/len(preds))\n",
          "output_type": "stream"
        },
        {
          "name": "stdout",
          "text": "Epoch [0], val_loss: 0.1609, val_acc: 0.9536\nEpoch [1], val_loss: 0.1572, val_acc: 0.9563\nEpoch [2], val_loss: 0.1561, val_acc: 0.9545\nEpoch [3], val_loss: 0.1530, val_acc: 0.9571\nEpoch [4], val_loss: 0.1499, val_acc: 0.9582\n",
          "output_type": "stream"
        }
      ]
    },
    {
      "cell_type": "code",
      "source": [
        "m3 = MnistModel(input_size, hidden_size=hidden_size, out_size=num_classes)\n",
        "to_device(m3, device)"
      ],
      "metadata": {
        "execution": {
          "iopub.status.busy": "2024-09-01T15:55:05.944569Z",
          "iopub.execute_input": "2024-09-01T15:55:05.945076Z",
          "iopub.status.idle": "2024-09-01T15:55:05.954257Z",
          "shell.execute_reply.started": "2024-09-01T15:55:05.945025Z",
          "shell.execute_reply": "2024-09-01T15:55:05.953319Z"
        },
        "trusted": true,
        "id": "0mCdZFN4gGzt",
        "outputId": "dd597fb7-3451-4ab5-9f28-ffb2b1281a63"
      },
      "execution_count": null,
      "outputs": [
        {
          "execution_count": 44,
          "output_type": "execute_result",
          "data": {
            "text/plain": "MnistModel(\n  (linear1): Linear(in_features=784, out_features=32, bias=True)\n  (linear2): Linear(in_features=32, out_features=10, bias=True)\n)"
          },
          "metadata": {}
        }
      ]
    },
    {
      "cell_type": "code",
      "source": [
        "m3_history1 = fit(5,0.5082839076857731,m3,train_loader,val_loader)"
      ],
      "metadata": {
        "execution": {
          "iopub.status.busy": "2024-09-01T16:09:14.910802Z",
          "iopub.execute_input": "2024-09-01T16:09:14.911185Z",
          "iopub.status.idle": "2024-09-01T16:09:32.967141Z",
          "shell.execute_reply.started": "2024-09-01T16:09:14.911152Z",
          "shell.execute_reply": "2024-09-01T16:09:32.965967Z"
        },
        "trusted": true,
        "id": "SqVgoF4mgGzu",
        "outputId": "03d5289d-fc12-4850-eec3-7851694c148d"
      },
      "execution_count": null,
      "outputs": [
        {
          "name": "stderr",
          "text": "/tmp/ipykernel_36/55389227.py:4: UserWarning: To copy construct from a tensor, it is recommended to use sourceTensor.clone().detach() or sourceTensor.clone().detach().requires_grad_(True), rather than torch.tensor(sourceTensor).\n  return torch.tensor(torch.sum(preds == labels)/len(preds))\n",
          "output_type": "stream"
        },
        {
          "name": "stdout",
          "text": "Epoch [0], val_loss: 0.2544, val_acc: 0.9212\nEpoch [1], val_loss: 0.2026, val_acc: 0.9413\nEpoch [2], val_loss: 0.1906, val_acc: 0.9439\nEpoch [3], val_loss: 0.1520, val_acc: 0.9572\nEpoch [4], val_loss: 0.1413, val_acc: 0.9586\n",
          "output_type": "stream"
        }
      ]
    },
    {
      "cell_type": "code",
      "source": [
        "m3_history2 = fit(5,0.5082839076857731,m3,train_loader,val_loader)"
      ],
      "metadata": {
        "execution": {
          "iopub.status.busy": "2024-09-01T16:09:50.855595Z",
          "iopub.execute_input": "2024-09-01T16:09:50.856351Z",
          "iopub.status.idle": "2024-09-01T16:10:08.845717Z",
          "shell.execute_reply.started": "2024-09-01T16:09:50.856308Z",
          "shell.execute_reply": "2024-09-01T16:10:08.844488Z"
        },
        "trusted": true,
        "id": "lY5YLTUEgGzv",
        "outputId": "9b6d9436-4bce-4e56-e423-e9b85c892d38"
      },
      "execution_count": null,
      "outputs": [
        {
          "name": "stderr",
          "text": "/tmp/ipykernel_36/55389227.py:4: UserWarning: To copy construct from a tensor, it is recommended to use sourceTensor.clone().detach() or sourceTensor.clone().detach().requires_grad_(True), rather than torch.tensor(sourceTensor).\n  return torch.tensor(torch.sum(preds == labels)/len(preds))\n",
          "output_type": "stream"
        },
        {
          "name": "stdout",
          "text": "Epoch [0], val_loss: 0.1625, val_acc: 0.9523\nEpoch [1], val_loss: 0.1474, val_acc: 0.9583\nEpoch [2], val_loss: 0.1484, val_acc: 0.9591\nEpoch [3], val_loss: 0.1372, val_acc: 0.9624\nEpoch [4], val_loss: 0.1439, val_acc: 0.9611\n",
          "output_type": "stream"
        }
      ]
    },
    {
      "cell_type": "code",
      "source": [
        "m3_history3 = fit(5,0.5082839076857731,m3,train_loader,val_loader)"
      ],
      "metadata": {
        "execution": {
          "iopub.status.busy": "2024-09-01T16:12:01.343512Z",
          "iopub.execute_input": "2024-09-01T16:12:01.343971Z",
          "iopub.status.idle": "2024-09-01T16:12:19.355215Z",
          "shell.execute_reply.started": "2024-09-01T16:12:01.343931Z",
          "shell.execute_reply": "2024-09-01T16:12:19.353993Z"
        },
        "trusted": true,
        "id": "hdrEqbNbgGzv",
        "outputId": "82cdf6e9-0003-458e-f0a0-a507590ee31f"
      },
      "execution_count": null,
      "outputs": [
        {
          "name": "stderr",
          "text": "/tmp/ipykernel_36/55389227.py:4: UserWarning: To copy construct from a tensor, it is recommended to use sourceTensor.clone().detach() or sourceTensor.clone().detach().requires_grad_(True), rather than torch.tensor(sourceTensor).\n  return torch.tensor(torch.sum(preds == labels)/len(preds))\n",
          "output_type": "stream"
        },
        {
          "name": "stdout",
          "text": "Epoch [0], val_loss: 0.1586, val_acc: 0.9548\nEpoch [1], val_loss: 0.1314, val_acc: 0.9662\nEpoch [2], val_loss: 0.1413, val_acc: 0.9620\nEpoch [3], val_loss: 0.1521, val_acc: 0.9596\nEpoch [4], val_loss: 0.1372, val_acc: 0.9615\n",
          "output_type": "stream"
        }
      ]
    },
    {
      "cell_type": "code",
      "source": [
        "m3_history4 = fit(5,0.5082839076857731,m3,train_loader,val_loader)"
      ],
      "metadata": {
        "execution": {
          "iopub.status.busy": "2024-09-01T16:12:57.066202Z",
          "iopub.execute_input": "2024-09-01T16:12:57.067002Z",
          "iopub.status.idle": "2024-09-01T16:13:14.974156Z",
          "shell.execute_reply.started": "2024-09-01T16:12:57.066959Z",
          "shell.execute_reply": "2024-09-01T16:13:14.972959Z"
        },
        "trusted": true,
        "id": "r-6JCdvqgGzv",
        "outputId": "cfe5077a-dc4a-434c-f50d-1729155032e0"
      },
      "execution_count": null,
      "outputs": [
        {
          "name": "stderr",
          "text": "/tmp/ipykernel_36/55389227.py:4: UserWarning: To copy construct from a tensor, it is recommended to use sourceTensor.clone().detach() or sourceTensor.clone().detach().requires_grad_(True), rather than torch.tensor(sourceTensor).\n  return torch.tensor(torch.sum(preds == labels)/len(preds))\n",
          "output_type": "stream"
        },
        {
          "name": "stdout",
          "text": "Epoch [0], val_loss: 0.1460, val_acc: 0.9623\nEpoch [1], val_loss: 0.1480, val_acc: 0.9613\nEpoch [2], val_loss: 0.1600, val_acc: 0.9594\nEpoch [3], val_loss: 0.1651, val_acc: 0.9589\nEpoch [4], val_loss: 0.1557, val_acc: 0.9591\n",
          "output_type": "stream"
        }
      ]
    },
    {
      "cell_type": "code",
      "source": [
        "m4 = MnistModel(input_size, hidden_size=hidden_size, out_size=num_classes)\n",
        "to_device(m4, device)"
      ],
      "metadata": {
        "execution": {
          "iopub.status.busy": "2024-09-01T16:13:39.107425Z",
          "iopub.execute_input": "2024-09-01T16:13:39.107834Z",
          "iopub.status.idle": "2024-09-01T16:13:39.117733Z",
          "shell.execute_reply.started": "2024-09-01T16:13:39.107796Z",
          "shell.execute_reply": "2024-09-01T16:13:39.116701Z"
        },
        "trusted": true,
        "id": "H3a6s5VpgGzw",
        "outputId": "0c115478-a50c-4203-a41d-1ae1bf11c171"
      },
      "execution_count": null,
      "outputs": [
        {
          "execution_count": 67,
          "output_type": "execute_result",
          "data": {
            "text/plain": "MnistModel(\n  (linear1): Linear(in_features=784, out_features=32, bias=True)\n  (linear2): Linear(in_features=32, out_features=10, bias=True)\n)"
          },
          "metadata": {}
        }
      ]
    },
    {
      "cell_type": "code",
      "source": [
        "m4_history1 = fit(5,0.5840831129446328,m4,train_loader,val_loader)"
      ],
      "metadata": {
        "execution": {
          "iopub.status.busy": "2024-09-01T16:14:51.622906Z",
          "iopub.execute_input": "2024-09-01T16:14:51.623672Z",
          "iopub.status.idle": "2024-09-01T16:15:09.106462Z",
          "shell.execute_reply.started": "2024-09-01T16:14:51.623634Z",
          "shell.execute_reply": "2024-09-01T16:15:09.10522Z"
        },
        "trusted": true,
        "id": "sr8AA3_kgGzw",
        "outputId": "138fc3fc-1743-475d-de82-6931773227c3"
      },
      "execution_count": null,
      "outputs": [
        {
          "name": "stderr",
          "text": "/tmp/ipykernel_36/55389227.py:4: UserWarning: To copy construct from a tensor, it is recommended to use sourceTensor.clone().detach() or sourceTensor.clone().detach().requires_grad_(True), rather than torch.tensor(sourceTensor).\n  return torch.tensor(torch.sum(preds == labels)/len(preds))\n",
          "output_type": "stream"
        },
        {
          "name": "stdout",
          "text": "Epoch [0], val_loss: 0.2300, val_acc: 0.9329\nEpoch [1], val_loss: 0.2107, val_acc: 0.9389\nEpoch [2], val_loss: 0.1572, val_acc: 0.9547\nEpoch [3], val_loss: 0.1619, val_acc: 0.9512\nEpoch [4], val_loss: 0.1439, val_acc: 0.9568\n",
          "output_type": "stream"
        }
      ]
    },
    {
      "cell_type": "code",
      "source": [
        "m4_history2 = fit(5,0.5840831129446328,m4,train_loader,val_loader)"
      ],
      "metadata": {
        "execution": {
          "iopub.status.busy": "2024-09-01T16:15:40.546203Z",
          "iopub.execute_input": "2024-09-01T16:15:40.547005Z",
          "iopub.status.idle": "2024-09-01T16:15:58.526539Z",
          "shell.execute_reply.started": "2024-09-01T16:15:40.546963Z",
          "shell.execute_reply": "2024-09-01T16:15:58.525347Z"
        },
        "trusted": true,
        "id": "qfbD0Zi9gGzx",
        "outputId": "1ee4fc40-82cb-4ad9-b39f-2c7212511fbe"
      },
      "execution_count": null,
      "outputs": [
        {
          "name": "stderr",
          "text": "/tmp/ipykernel_36/55389227.py:4: UserWarning: To copy construct from a tensor, it is recommended to use sourceTensor.clone().detach() or sourceTensor.clone().detach().requires_grad_(True), rather than torch.tensor(sourceTensor).\n  return torch.tensor(torch.sum(preds == labels)/len(preds))\n",
          "output_type": "stream"
        },
        {
          "name": "stdout",
          "text": "Epoch [0], val_loss: 0.1381, val_acc: 0.9590\nEpoch [1], val_loss: 0.1375, val_acc: 0.9598\nEpoch [2], val_loss: 0.1383, val_acc: 0.9591\nEpoch [3], val_loss: 0.1657, val_acc: 0.9510\nEpoch [4], val_loss: 0.1400, val_acc: 0.9595\n",
          "output_type": "stream"
        }
      ]
    },
    {
      "cell_type": "code",
      "source": [
        "m4_history3 = fit(5,0.5840831129446328,m4,train_loader,val_loader)"
      ],
      "metadata": {
        "execution": {
          "iopub.status.busy": "2024-09-01T16:16:18.405998Z",
          "iopub.execute_input": "2024-09-01T16:16:18.406856Z",
          "iopub.status.idle": "2024-09-01T16:16:36.330624Z",
          "shell.execute_reply.started": "2024-09-01T16:16:18.40681Z",
          "shell.execute_reply": "2024-09-01T16:16:36.329493Z"
        },
        "trusted": true,
        "id": "nz5mWTGIgGzx",
        "outputId": "5ace845c-6344-47d3-b17e-2d813aa570ab"
      },
      "execution_count": null,
      "outputs": [
        {
          "name": "stderr",
          "text": "/tmp/ipykernel_36/55389227.py:4: UserWarning: To copy construct from a tensor, it is recommended to use sourceTensor.clone().detach() or sourceTensor.clone().detach().requires_grad_(True), rather than torch.tensor(sourceTensor).\n  return torch.tensor(torch.sum(preds == labels)/len(preds))\n",
          "output_type": "stream"
        },
        {
          "name": "stdout",
          "text": "Epoch [0], val_loss: 0.1415, val_acc: 0.9604\nEpoch [1], val_loss: 0.1501, val_acc: 0.9599\nEpoch [2], val_loss: 0.1319, val_acc: 0.9646\nEpoch [3], val_loss: 0.1472, val_acc: 0.9596\nEpoch [4], val_loss: 0.1337, val_acc: 0.9645\n",
          "output_type": "stream"
        }
      ]
    },
    {
      "cell_type": "code",
      "source": [
        "m4_history4 = fit(5,0.5840831129446328,m4,train_loader,val_loader)"
      ],
      "metadata": {
        "execution": {
          "iopub.status.busy": "2024-09-01T16:17:23.418628Z",
          "iopub.execute_input": "2024-09-01T16:17:23.419068Z",
          "iopub.status.idle": "2024-09-01T16:17:41.557749Z",
          "shell.execute_reply.started": "2024-09-01T16:17:23.419026Z",
          "shell.execute_reply": "2024-09-01T16:17:41.556501Z"
        },
        "trusted": true,
        "id": "AwxC42cEgGzx",
        "outputId": "8a321348-8463-41a3-9dd8-4852c5038c61"
      },
      "execution_count": null,
      "outputs": [
        {
          "name": "stderr",
          "text": "/tmp/ipykernel_36/55389227.py:4: UserWarning: To copy construct from a tensor, it is recommended to use sourceTensor.clone().detach() or sourceTensor.clone().detach().requires_grad_(True), rather than torch.tensor(sourceTensor).\n  return torch.tensor(torch.sum(preds == labels)/len(preds))\n",
          "output_type": "stream"
        },
        {
          "name": "stdout",
          "text": "Epoch [0], val_loss: 0.1410, val_acc: 0.9621\nEpoch [1], val_loss: 0.1747, val_acc: 0.9554\nEpoch [2], val_loss: 0.1471, val_acc: 0.9642\nEpoch [3], val_loss: 0.1416, val_acc: 0.9646\nEpoch [4], val_loss: 0.1527, val_acc: 0.9622\n",
          "output_type": "stream"
        }
      ]
    },
    {
      "cell_type": "code",
      "source": [
        "m1_history5 = fit(30,0.0178878518656460,m1,train_loader,val_loader)"
      ],
      "metadata": {
        "execution": {
          "iopub.status.busy": "2024-09-01T15:55:05.955503Z",
          "iopub.execute_input": "2024-09-01T15:55:05.955836Z",
          "iopub.status.idle": "2024-09-01T15:56:52.679216Z",
          "shell.execute_reply.started": "2024-09-01T15:55:05.955804Z",
          "shell.execute_reply": "2024-09-01T15:56:52.678078Z"
        },
        "trusted": true,
        "id": "7ZimvhD7gGzx",
        "outputId": "517e0d15-f376-4540-936b-eac876bf3848"
      },
      "execution_count": null,
      "outputs": [
        {
          "name": "stderr",
          "text": "/tmp/ipykernel_36/55389227.py:4: UserWarning: To copy construct from a tensor, it is recommended to use sourceTensor.clone().detach() or sourceTensor.clone().detach().requires_grad_(True), rather than torch.tensor(sourceTensor).\n  return torch.tensor(torch.sum(preds == labels)/len(preds))\n",
          "output_type": "stream"
        },
        {
          "name": "stdout",
          "text": "Epoch [0], val_loss: 0.2627, val_acc: 0.9255\nEpoch [1], val_loss: 0.2588, val_acc: 0.9250\nEpoch [2], val_loss: 0.2554, val_acc: 0.9255\nEpoch [3], val_loss: 0.2515, val_acc: 0.9272\nEpoch [4], val_loss: 0.2487, val_acc: 0.9293\nEpoch [5], val_loss: 0.2446, val_acc: 0.9314\nEpoch [6], val_loss: 0.2409, val_acc: 0.9312\nEpoch [7], val_loss: 0.2396, val_acc: 0.9339\nEpoch [8], val_loss: 0.2354, val_acc: 0.9319\nEpoch [9], val_loss: 0.2337, val_acc: 0.9344\nEpoch [10], val_loss: 0.2302, val_acc: 0.9363\nEpoch [11], val_loss: 0.2280, val_acc: 0.9370\nEpoch [12], val_loss: 0.2258, val_acc: 0.9377\nEpoch [13], val_loss: 0.2227, val_acc: 0.9389\nEpoch [14], val_loss: 0.2206, val_acc: 0.9389\nEpoch [15], val_loss: 0.2196, val_acc: 0.9386\nEpoch [16], val_loss: 0.2175, val_acc: 0.9401\nEpoch [17], val_loss: 0.2152, val_acc: 0.9414\nEpoch [18], val_loss: 0.2126, val_acc: 0.9410\nEpoch [19], val_loss: 0.2105, val_acc: 0.9416\nEpoch [20], val_loss: 0.2082, val_acc: 0.9427\nEpoch [21], val_loss: 0.2063, val_acc: 0.9435\nEpoch [22], val_loss: 0.2052, val_acc: 0.9430\nEpoch [23], val_loss: 0.2037, val_acc: 0.9433\nEpoch [24], val_loss: 0.2030, val_acc: 0.9430\nEpoch [25], val_loss: 0.2005, val_acc: 0.9443\nEpoch [26], val_loss: 0.1985, val_acc: 0.9451\nEpoch [27], val_loss: 0.1970, val_acc: 0.9463\nEpoch [28], val_loss: 0.1957, val_acc: 0.9453\nEpoch [29], val_loss: 0.1945, val_acc: 0.9463\n",
          "output_type": "stream"
        }
      ]
    },
    {
      "cell_type": "code",
      "source": [
        "m2_history5 = fit(30,0.09833396206168134,m2,train_loader,val_loader)"
      ],
      "metadata": {
        "execution": {
          "iopub.status.busy": "2024-09-01T15:56:52.680813Z",
          "iopub.execute_input": "2024-09-01T15:56:52.681151Z",
          "iopub.status.idle": "2024-09-01T15:58:39.344071Z",
          "shell.execute_reply.started": "2024-09-01T15:56:52.681117Z",
          "shell.execute_reply": "2024-09-01T15:58:39.342817Z"
        },
        "trusted": true,
        "id": "pBH7FiI5gGzy",
        "outputId": "9fc0aaba-3626-4726-bff2-b1b1658fb953"
      },
      "execution_count": null,
      "outputs": [
        {
          "name": "stderr",
          "text": "/tmp/ipykernel_36/55389227.py:4: UserWarning: To copy construct from a tensor, it is recommended to use sourceTensor.clone().detach() or sourceTensor.clone().detach().requires_grad_(True), rather than torch.tensor(sourceTensor).\n  return torch.tensor(torch.sum(preds == labels)/len(preds))\n",
          "output_type": "stream"
        },
        {
          "name": "stdout",
          "text": "Epoch [0], val_loss: 0.1507, val_acc: 0.9581\nEpoch [1], val_loss: 0.1456, val_acc: 0.9592\nEpoch [2], val_loss: 0.1459, val_acc: 0.9585\nEpoch [3], val_loss: 0.1538, val_acc: 0.9561\nEpoch [4], val_loss: 0.1447, val_acc: 0.9590\nEpoch [5], val_loss: 0.1424, val_acc: 0.9590\nEpoch [6], val_loss: 0.1418, val_acc: 0.9590\nEpoch [7], val_loss: 0.1476, val_acc: 0.9570\nEpoch [8], val_loss: 0.1398, val_acc: 0.9608\nEpoch [9], val_loss: 0.1365, val_acc: 0.9604\nEpoch [10], val_loss: 0.1355, val_acc: 0.9614\nEpoch [11], val_loss: 0.1384, val_acc: 0.9595\nEpoch [12], val_loss: 0.1341, val_acc: 0.9617\nEpoch [13], val_loss: 0.1360, val_acc: 0.9608\nEpoch [14], val_loss: 0.1357, val_acc: 0.9608\nEpoch [15], val_loss: 0.1336, val_acc: 0.9615\nEpoch [16], val_loss: 0.1360, val_acc: 0.9627\nEpoch [17], val_loss: 0.1373, val_acc: 0.9601\nEpoch [18], val_loss: 0.1332, val_acc: 0.9623\nEpoch [19], val_loss: 0.1329, val_acc: 0.9621\nEpoch [20], val_loss: 0.1339, val_acc: 0.9623\nEpoch [21], val_loss: 0.1321, val_acc: 0.9619\nEpoch [22], val_loss: 0.1420, val_acc: 0.9590\nEpoch [23], val_loss: 0.1344, val_acc: 0.9618\nEpoch [24], val_loss: 0.1327, val_acc: 0.9637\nEpoch [25], val_loss: 0.1343, val_acc: 0.9612\nEpoch [26], val_loss: 0.1318, val_acc: 0.9634\nEpoch [27], val_loss: 0.1321, val_acc: 0.9625\nEpoch [28], val_loss: 0.1320, val_acc: 0.9635\nEpoch [29], val_loss: 0.1349, val_acc: 0.9613\n",
          "output_type": "stream"
        }
      ]
    },
    {
      "cell_type": "code",
      "source": [
        "m3_history5 = fit(30,0.5082839076857731,m3,train_loader,val_loader)"
      ],
      "metadata": {
        "execution": {
          "iopub.status.busy": "2024-09-01T16:20:29.720606Z",
          "iopub.execute_input": "2024-09-01T16:20:29.72134Z",
          "iopub.status.idle": "2024-09-01T16:22:17.077429Z",
          "shell.execute_reply.started": "2024-09-01T16:20:29.721297Z",
          "shell.execute_reply": "2024-09-01T16:22:17.076299Z"
        },
        "trusted": true,
        "id": "gaT7yftFgGzy",
        "outputId": "bda556bb-4776-463a-a65c-6f0d9f3f8721"
      },
      "execution_count": null,
      "outputs": [
        {
          "name": "stderr",
          "text": "/tmp/ipykernel_36/55389227.py:4: UserWarning: To copy construct from a tensor, it is recommended to use sourceTensor.clone().detach() or sourceTensor.clone().detach().requires_grad_(True), rather than torch.tensor(sourceTensor).\n  return torch.tensor(torch.sum(preds == labels)/len(preds))\n",
          "output_type": "stream"
        },
        {
          "name": "stdout",
          "text": "Epoch [0], val_loss: 0.1938, val_acc: 0.9530\nEpoch [1], val_loss: 0.1582, val_acc: 0.9604\nEpoch [2], val_loss: 0.1586, val_acc: 0.9589\nEpoch [3], val_loss: 0.1788, val_acc: 0.9571\nEpoch [4], val_loss: 0.1517, val_acc: 0.9628\nEpoch [5], val_loss: 0.1599, val_acc: 0.9610\nEpoch [6], val_loss: 0.1888, val_acc: 0.9574\nEpoch [7], val_loss: 0.1558, val_acc: 0.9643\nEpoch [8], val_loss: 0.1725, val_acc: 0.9604\nEpoch [9], val_loss: 0.1685, val_acc: 0.9607\nEpoch [10], val_loss: 0.1940, val_acc: 0.9562\nEpoch [11], val_loss: 0.1809, val_acc: 0.9585\nEpoch [12], val_loss: 0.1749, val_acc: 0.9594\nEpoch [13], val_loss: 0.1786, val_acc: 0.9629\nEpoch [14], val_loss: 0.1724, val_acc: 0.9621\nEpoch [15], val_loss: 0.1813, val_acc: 0.9588\nEpoch [16], val_loss: 0.1776, val_acc: 0.9611\nEpoch [17], val_loss: 0.1796, val_acc: 0.9633\nEpoch [18], val_loss: 0.1843, val_acc: 0.9616\nEpoch [19], val_loss: 0.1859, val_acc: 0.9623\nEpoch [20], val_loss: 0.1842, val_acc: 0.9621\nEpoch [21], val_loss: 0.2068, val_acc: 0.9581\nEpoch [22], val_loss: 0.1862, val_acc: 0.9627\nEpoch [23], val_loss: 0.1902, val_acc: 0.9613\nEpoch [24], val_loss: 0.1958, val_acc: 0.9590\nEpoch [25], val_loss: 0.2009, val_acc: 0.9598\nEpoch [26], val_loss: 0.1932, val_acc: 0.9618\nEpoch [27], val_loss: 0.1994, val_acc: 0.9612\nEpoch [28], val_loss: 0.2054, val_acc: 0.9583\nEpoch [29], val_loss: 0.2020, val_acc: 0.9608\n",
          "output_type": "stream"
        }
      ]
    },
    {
      "cell_type": "code",
      "source": [
        "m4_history5 = fit(30,0.5840831129446328,m4,train_loader,val_loader)"
      ],
      "metadata": {
        "execution": {
          "iopub.status.busy": "2024-09-01T16:24:15.806568Z",
          "iopub.execute_input": "2024-09-01T16:24:15.807514Z",
          "iopub.status.idle": "2024-09-01T16:26:04.01486Z",
          "shell.execute_reply.started": "2024-09-01T16:24:15.807447Z",
          "shell.execute_reply": "2024-09-01T16:26:04.013481Z"
        },
        "trusted": true,
        "id": "XhbLcjNbgGzy",
        "outputId": "2d359015-2f31-40ec-e44f-1a0fdf59e847"
      },
      "execution_count": null,
      "outputs": [
        {
          "name": "stderr",
          "text": "/tmp/ipykernel_36/55389227.py:4: UserWarning: To copy construct from a tensor, it is recommended to use sourceTensor.clone().detach() or sourceTensor.clone().detach().requires_grad_(True), rather than torch.tensor(sourceTensor).\n  return torch.tensor(torch.sum(preds == labels)/len(preds))\n",
          "output_type": "stream"
        },
        {
          "name": "stdout",
          "text": "Epoch [0], val_loss: 0.1421, val_acc: 0.9653\nEpoch [1], val_loss: 0.1445, val_acc: 0.9649\nEpoch [2], val_loss: 0.1470, val_acc: 0.9641\nEpoch [3], val_loss: 0.1661, val_acc: 0.9584\nEpoch [4], val_loss: 0.1630, val_acc: 0.9625\nEpoch [5], val_loss: 0.1608, val_acc: 0.9633\nEpoch [6], val_loss: 0.1585, val_acc: 0.9641\nEpoch [7], val_loss: 0.1854, val_acc: 0.9563\nEpoch [8], val_loss: 0.1823, val_acc: 0.9604\nEpoch [9], val_loss: 0.1718, val_acc: 0.9645\nEpoch [10], val_loss: 0.1721, val_acc: 0.9641\nEpoch [11], val_loss: 0.1636, val_acc: 0.9652\nEpoch [12], val_loss: 0.1845, val_acc: 0.9594\nEpoch [13], val_loss: 0.1669, val_acc: 0.9665\nEpoch [14], val_loss: 0.1845, val_acc: 0.9634\nEpoch [15], val_loss: 0.1957, val_acc: 0.9611\nEpoch [16], val_loss: 0.1740, val_acc: 0.9637\nEpoch [17], val_loss: 0.1781, val_acc: 0.9643\nEpoch [18], val_loss: 0.1751, val_acc: 0.9657\nEpoch [19], val_loss: 0.1985, val_acc: 0.9618\nEpoch [20], val_loss: 0.1750, val_acc: 0.9651\nEpoch [21], val_loss: 0.1792, val_acc: 0.9657\nEpoch [22], val_loss: 0.1850, val_acc: 0.9646\nEpoch [23], val_loss: 0.1861, val_acc: 0.9647\nEpoch [24], val_loss: 0.1836, val_acc: 0.9665\nEpoch [25], val_loss: 0.2014, val_acc: 0.9626\nEpoch [26], val_loss: 0.1860, val_acc: 0.9657\nEpoch [27], val_loss: 0.1887, val_acc: 0.9651\nEpoch [28], val_loss: 0.1927, val_acc: 0.9654\nEpoch [29], val_loss: 0.1953, val_acc: 0.9645\n",
          "output_type": "stream"
        }
      ]
    },
    {
      "cell_type": "code",
      "source": [
        "history = m1_history1 +m1_history2 +m1_history3 +m1_history4 + m1_history5\n",
        "accuracies = [result['val_acc'] for result in history]\n",
        "plt.plot(accuracies, '-x')\n",
        "plt.xlabel('epoch')\n",
        "plt.ylabel('accuracy')\n",
        "plt.title('Accuracy Compared To # of Epochs')"
      ],
      "metadata": {
        "execution": {
          "iopub.status.busy": "2024-09-01T15:58:39.345677Z",
          "iopub.execute_input": "2024-09-01T15:58:39.346021Z",
          "iopub.status.idle": "2024-09-01T15:58:39.651558Z",
          "shell.execute_reply.started": "2024-09-01T15:58:39.345986Z",
          "shell.execute_reply": "2024-09-01T15:58:39.650578Z"
        },
        "trusted": true,
        "id": "TkBKqn1DgGzy",
        "outputId": "25b8aa19-e83c-474e-a462-40ed53c5811e"
      },
      "execution_count": null,
      "outputs": [
        {
          "execution_count": 47,
          "output_type": "execute_result",
          "data": {
            "text/plain": "Text(0.5, 1.0, 'Accuracy Compared To # of Epochs')"
          },
          "metadata": {}
        },
        {
          "output_type": "display_data",
          "data": {
            "text/plain": "<Figure size 640x480 with 1 Axes>",
            "image/png": "[encoded data removed]"
          },
          "metadata": {}
        }
      ]
    },
    {
      "cell_type": "code",
      "source": [
        "history = m2_history1 +m2_history2 +m2_history3 +m2_history4 + m2_history5\n",
        "accuracies = [result['val_acc'] for result in history]\n",
        "plt.plot(accuracies, '-x')\n",
        "plt.xlabel('epoch')\n",
        "plt.ylabel('accuracy')\n",
        "plt.title('Accuracy Compared To # of Epochs')"
      ],
      "metadata": {
        "execution": {
          "iopub.status.busy": "2024-09-01T15:58:39.652643Z",
          "iopub.execute_input": "2024-09-01T15:58:39.652979Z",
          "iopub.status.idle": "2024-09-01T15:58:39.961141Z",
          "shell.execute_reply.started": "2024-09-01T15:58:39.652932Z",
          "shell.execute_reply": "2024-09-01T15:58:39.960254Z"
        },
        "trusted": true,
        "id": "D59zGiRKgGzz",
        "outputId": "876fe6d1-bc0d-4844-c537-ab303be79b02"
      },
      "execution_count": null,
      "outputs": [
        {
          "execution_count": 48,
          "output_type": "execute_result",
          "data": {
            "text/plain": "Text(0.5, 1.0, 'Accuracy Compared To # of Epochs')"
          },
          "metadata": {}
        },
        {
          "output_type": "display_data",
          "data": {
            "text/plain": "<Figure size 640x480 with 1 Axes>",
            "image/png": "[encoded data removed]"
          },
          "metadata": {}
        }
      ]
    },
    {
      "cell_type": "code",
      "source": [
        "history = m3_history1 +m3_history2 +m3_history3 +m3_history4 + m3_history5\n",
        "accuracies = [result['val_acc'] for result in history]\n",
        "plt.plot(accuracies, '-x')\n",
        "plt.xlabel('epoch')\n",
        "plt.ylabel('accuracy')\n",
        "plt.title('Accuracy Compared To # of Epochs')"
      ],
      "metadata": {
        "execution": {
          "iopub.status.busy": "2024-09-01T16:27:05.79135Z",
          "iopub.execute_input": "2024-09-01T16:27:05.791786Z",
          "iopub.status.idle": "2024-09-01T16:27:06.086512Z",
          "shell.execute_reply.started": "2024-09-01T16:27:05.791733Z",
          "shell.execute_reply": "2024-09-01T16:27:06.085526Z"
        },
        "trusted": true,
        "id": "pbQzPpY2gGzz",
        "outputId": "4b5098d4-59e1-4c95-b381-679c1d21bf2e"
      },
      "execution_count": null,
      "outputs": [
        {
          "execution_count": 75,
          "output_type": "execute_result",
          "data": {
            "text/plain": "Text(0.5, 1.0, 'Accuracy Compared To # of Epochs')"
          },
          "metadata": {}
        },
        {
          "output_type": "display_data",
          "data": {
            "text/plain": "<Figure size 640x480 with 1 Axes>",
            "image/png": "[encoded data removed]"
          },
          "metadata": {}
        }
      ]
    },
    {
      "cell_type": "code",
      "source": [
        "history = m4_history1 +m4_history2 +m4_history3 +m4_history4 + m4_history5\n",
        "accuracies = [result['val_acc'] for result in history]\n",
        "plt.plot(accuracies, '-x')\n",
        "plt.xlabel('epoch')\n",
        "plt.ylabel('accuracy')\n",
        "plt.title('Accuracy Compared To # of Epochs')"
      ],
      "metadata": {
        "execution": {
          "iopub.status.busy": "2024-09-01T16:27:28.371294Z",
          "iopub.execute_input": "2024-09-01T16:27:28.371682Z",
          "iopub.status.idle": "2024-09-01T16:27:28.686877Z",
          "shell.execute_reply.started": "2024-09-01T16:27:28.371644Z",
          "shell.execute_reply": "2024-09-01T16:27:28.685649Z"
        },
        "trusted": true,
        "id": "Tdxqw1zfgGzz",
        "outputId": "9709da30-20c0-4e49-c124-86a2664ee856"
      },
      "execution_count": null,
      "outputs": [
        {
          "execution_count": 76,
          "output_type": "execute_result",
          "data": {
            "text/plain": "Text(0.5, 1.0, 'Accuracy Compared To # of Epochs')"
          },
          "metadata": {}
        },
        {
          "output_type": "display_data",
          "data": {
            "text/plain": "<Figure size 640x480 with 1 Axes>",
            "image/png": "[encoded data removed]"
          },
          "metadata": {}
        }
      ]
    },
    {
      "cell_type": "markdown",
      "source": [
        "Test Set Results"
      ],
      "metadata": {
        "id": "o0RuiQ00gGzz"
      }
    },
    {
      "cell_type": "code",
      "source": [
        "def test_evaluate(model, test_loader):\n",
        "    \"\"\"Evaluate the model's performance on the test set\"\"\"\n",
        "    outputs = [model.test_step(batch) for batch in test_loader]\n",
        "    return model.test_epoch_end(outputs)\n",
        "\n",
        "def test_fit(epochs, lr, model, train_loader, test_loader,opt_func=torch.optim.SGD):\n",
        "    \"\"\"Train the model using gradient descent\"\"\"\n",
        "    history = []\n",
        "    optimizer = opt_func(model.parameters(), lr)\n",
        "    for epoch in range(epochs):\n",
        "        # Training Phase\n",
        "        for batch in train_loader:\n",
        "            loss = model.training_step(batch)\n",
        "            loss.backward()\n",
        "            optimizer.step()\n",
        "            optimizer.zero_grad()\n",
        "        # Validation phase\n",
        "        result = test_evaluate(model, test_loader)\n",
        "        model.epoch_endtest(epoch, result)\n",
        "        history.append(result)\n",
        "    return history"
      ],
      "metadata": {
        "execution": {
          "iopub.status.busy": "2024-09-01T15:58:39.970929Z",
          "iopub.execute_input": "2024-09-01T15:58:39.971212Z",
          "iopub.status.idle": "2024-09-01T15:58:39.978889Z",
          "shell.execute_reply.started": "2024-09-01T15:58:39.971167Z",
          "shell.execute_reply": "2024-09-01T15:58:39.977952Z"
        },
        "trusted": true,
        "id": "sd8CBp47gGz0"
      },
      "execution_count": null,
      "outputs": []
    },
    {
      "cell_type": "code",
      "source": [
        "test_fit(5,0.1,model_gpu,train_loader,test_loader)"
      ],
      "metadata": {
        "execution": {
          "iopub.status.busy": "2024-09-01T16:33:55.842049Z",
          "iopub.execute_input": "2024-09-01T16:33:55.842845Z",
          "iopub.status.idle": "2024-09-01T16:34:12.18131Z",
          "shell.execute_reply.started": "2024-09-01T16:33:55.842799Z",
          "shell.execute_reply": "2024-09-01T16:34:12.180201Z"
        },
        "trusted": true,
        "id": "pqcdT-EygGz0",
        "outputId": "a6b4d168-fdf7-4441-9a6a-c68d9cd697b7"
      },
      "execution_count": null,
      "outputs": [
        {
          "name": "stderr",
          "text": "/tmp/ipykernel_36/55389227.py:4: UserWarning: To copy construct from a tensor, it is recommended to use sourceTensor.clone().detach() or sourceTensor.clone().detach().requires_grad_(True), rather than torch.tensor(sourceTensor).\n  return torch.tensor(torch.sum(preds == labels)/len(preds))\n",
          "output_type": "stream"
        },
        {
          "name": "stdout",
          "text": "Epoch [0], test_loss: 0.1205, test_acc: 0.9671\nEpoch [1], test_loss: 0.1204, test_acc: 0.9662\nEpoch [2], test_loss: 0.1203, test_acc: 0.9663\nEpoch [3], test_loss: 0.1208, test_acc: 0.9656\nEpoch [4], test_loss: 0.1198, test_acc: 0.9665\n",
          "output_type": "stream"
        },
        {
          "execution_count": 79,
          "output_type": "execute_result",
          "data": {
            "text/plain": "[{'test_loss': 0.12047938257455826, 'test_acc': 0.9671301245689392},\n {'test_loss': 0.12040393799543381, 'test_acc': 0.9661535620689392},\n {'test_loss': 0.12032432854175568, 'test_acc': 0.9663488268852234},\n {'test_loss': 0.12075672298669815, 'test_acc': 0.9655675888061523},\n {'test_loss': 0.11975502222776413, 'test_acc': 0.9665441513061523}]"
          },
          "metadata": {}
        }
      ]
    },
    {
      "cell_type": "code",
      "source": [
        "test_fit(5,0.0178878518656460,m1,train_loader,test_loader)"
      ],
      "metadata": {
        "execution": {
          "iopub.status.busy": "2024-09-01T16:34:37.05393Z",
          "iopub.execute_input": "2024-09-01T16:34:37.054939Z",
          "iopub.status.idle": "2024-09-01T16:34:53.736473Z",
          "shell.execute_reply.started": "2024-09-01T16:34:37.054893Z",
          "shell.execute_reply": "2024-09-01T16:34:53.73347Z"
        },
        "trusted": true,
        "id": "lDSc8R7WgGz0",
        "outputId": "97195221-491c-40d7-950a-a89b3d3fbbe4"
      },
      "execution_count": null,
      "outputs": [
        {
          "name": "stderr",
          "text": "/tmp/ipykernel_36/55389227.py:4: UserWarning: To copy construct from a tensor, it is recommended to use sourceTensor.clone().detach() or sourceTensor.clone().detach().requires_grad_(True), rather than torch.tensor(sourceTensor).\n  return torch.tensor(torch.sum(preds == labels)/len(preds))\n",
          "output_type": "stream"
        },
        {
          "name": "stdout",
          "text": "Epoch [0], test_loss: 0.1851, test_acc: 0.9506\nEpoch [1], test_loss: 0.1822, test_acc: 0.9504\nEpoch [2], test_loss: 0.1812, test_acc: 0.9523\nEpoch [3], test_loss: 0.1804, test_acc: 0.9519\nEpoch [4], test_loss: 0.1801, test_acc: 0.9515\n",
          "output_type": "stream"
        },
        {
          "execution_count": 80,
          "output_type": "execute_result",
          "data": {
            "text/plain": "[{'test_loss': 0.18507523834705353, 'test_acc': 0.950551450252533},\n {'test_loss': 0.18220466375350952, 'test_acc': 0.950356125831604},\n {'test_loss': 0.18115633726119995, 'test_acc': 0.952309250831604},\n {'test_loss': 0.18039055168628693, 'test_acc': 0.9519186019897461},\n {'test_loss': 0.18011541664600372, 'test_acc': 0.951528012752533}]"
          },
          "metadata": {}
        }
      ]
    },
    {
      "cell_type": "code",
      "source": [
        "test_fit(5,0.09833396206168134,m2,train_loader,test_loader)"
      ],
      "metadata": {
        "execution": {
          "iopub.status.busy": "2024-09-01T16:00:18.083085Z",
          "iopub.execute_input": "2024-09-01T16:00:18.083995Z",
          "iopub.status.idle": "2024-09-01T16:00:34.39915Z",
          "shell.execute_reply.started": "2024-09-01T16:00:18.083947Z",
          "shell.execute_reply": "2024-09-01T16:00:34.397855Z"
        },
        "trusted": true,
        "id": "H3rYOqCYgGz0",
        "outputId": "3099d925-cef4-48b4-f55a-31d70bcf3b66"
      },
      "execution_count": null,
      "outputs": [
        {
          "name": "stderr",
          "text": "/tmp/ipykernel_36/55389227.py:4: UserWarning: To copy construct from a tensor, it is recommended to use sourceTensor.clone().detach() or sourceTensor.clone().detach().requires_grad_(True), rather than torch.tensor(sourceTensor).\n  return torch.tensor(torch.sum(preds == labels)/len(preds))\n",
          "output_type": "stream"
        },
        {
          "name": "stdout",
          "text": "Epoch [0], test_loss: 0.1205, test_acc: 0.9638\nEpoch [1], test_loss: 0.1208, test_acc: 0.9642\nEpoch [2], test_loss: 0.1175, test_acc: 0.9669\nEpoch [3], test_loss: 0.1229, test_acc: 0.9659\nEpoch [4], test_loss: 0.1181, test_acc: 0.9657\n",
          "output_type": "stream"
        },
        {
          "execution_count": 60,
          "output_type": "execute_result",
          "data": {
            "text/plain": "[{'test_loss': 0.12046798318624496, 'test_acc': 0.9638097882270813},\n {'test_loss': 0.12082470953464508, 'test_acc': 0.9641774296760559},\n {'test_loss': 0.11753547191619873, 'test_acc': 0.9668658375740051},\n {'test_loss': 0.12285073101520538, 'test_acc': 0.9659122824668884},\n {'test_loss': 0.1180553212761879, 'test_acc': 0.9657169580459595}]"
          },
          "metadata": {}
        }
      ]
    },
    {
      "cell_type": "code",
      "source": [
        "test_fit(5,0.5082839076857731,m3,train_loader,test_loader)"
      ],
      "metadata": {
        "execution": {
          "iopub.status.busy": "2024-09-01T16:41:46.011885Z",
          "iopub.execute_input": "2024-09-01T16:41:46.012969Z",
          "iopub.status.idle": "2024-09-01T16:42:02.310239Z",
          "shell.execute_reply.started": "2024-09-01T16:41:46.01292Z",
          "shell.execute_reply": "2024-09-01T16:42:02.309149Z"
        },
        "trusted": true,
        "id": "hhLkn6KogGz1",
        "outputId": "e4fa017c-cd93-4315-83d9-8d5f13d8029a"
      },
      "execution_count": null,
      "outputs": [
        {
          "name": "stderr",
          "text": "/tmp/ipykernel_36/55389227.py:4: UserWarning: To copy construct from a tensor, it is recommended to use sourceTensor.clone().detach() or sourceTensor.clone().detach().requires_grad_(True), rather than torch.tensor(sourceTensor).\n  return torch.tensor(torch.sum(preds == labels)/len(preds))\n",
          "output_type": "stream"
        },
        {
          "name": "stdout",
          "text": "Epoch [0], test_loss: 0.1925, test_acc: 0.9636\nEpoch [1], test_loss: 0.1968, test_acc: 0.9622\nEpoch [2], test_loss: 0.1973, test_acc: 0.9638\nEpoch [3], test_loss: 0.1991, test_acc: 0.9628\nEpoch [4], test_loss: 0.1989, test_acc: 0.9630\n",
          "output_type": "stream"
        },
        {
          "execution_count": 81,
          "output_type": "execute_result",
          "data": {
            "text/plain": "[{'test_loss': 0.19245773553848267, 'test_acc': 0.9635915160179138},\n {'test_loss': 0.1967972368001938, 'test_acc': 0.9622243046760559},\n {'test_loss': 0.1972833126783371, 'test_acc': 0.9637638330459595},\n {'test_loss': 0.1991051882505417, 'test_acc': 0.962810218334198},\n {'test_loss': 0.19891534745693207, 'test_acc': 0.963005542755127}]"
          },
          "metadata": {}
        }
      ]
    },
    {
      "cell_type": "code",
      "source": [
        "test_fit(5,0.5840831129446328,m4,train_loader,test_loader)"
      ],
      "metadata": {
        "execution": {
          "iopub.status.busy": "2024-09-01T16:43:08.127544Z",
          "iopub.execute_input": "2024-09-01T16:43:08.128326Z",
          "iopub.status.idle": "2024-09-01T16:43:24.947185Z",
          "shell.execute_reply.started": "2024-09-01T16:43:08.128283Z",
          "shell.execute_reply": "2024-09-01T16:43:24.946034Z"
        },
        "trusted": true,
        "id": "50RpdYcagGz1",
        "outputId": "027098c3-e6c6-4818-d514-d9d7a3e15f47"
      },
      "execution_count": null,
      "outputs": [
        {
          "name": "stderr",
          "text": "/tmp/ipykernel_36/55389227.py:4: UserWarning: To copy construct from a tensor, it is recommended to use sourceTensor.clone().detach() or sourceTensor.clone().detach().requires_grad_(True), rather than torch.tensor(sourceTensor).\n  return torch.tensor(torch.sum(preds == labels)/len(preds))\n",
          "output_type": "stream"
        },
        {
          "name": "stdout",
          "text": "Epoch [0], test_loss: 0.1739, test_acc: 0.9642\nEpoch [1], test_loss: 0.1730, test_acc: 0.9649\nEpoch [2], test_loss: 0.1758, test_acc: 0.9643\nEpoch [3], test_loss: 0.1739, test_acc: 0.9645\nEpoch [4], test_loss: 0.1776, test_acc: 0.9636\n",
          "output_type": "stream"
        },
        {
          "execution_count": 82,
          "output_type": "execute_result",
          "data": {
            "text/plain": "[{'test_loss': 0.1739061176776886, 'test_acc': 0.9641544222831726},\n {'test_loss': 0.1729913204908371, 'test_acc': 0.9649357199668884},\n {'test_loss': 0.17578616738319397, 'test_acc': 0.964326798915863},\n {'test_loss': 0.17394772171974182, 'test_acc': 0.9645450711250305},\n {'test_loss': 0.1776454746723175, 'test_acc': 0.9635685086250305}]"
          },
          "metadata": {}
        }
      ]
    }
  ]
}